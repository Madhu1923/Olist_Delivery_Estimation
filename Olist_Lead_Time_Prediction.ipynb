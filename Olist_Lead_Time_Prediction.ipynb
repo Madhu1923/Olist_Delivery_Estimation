{
  "nbformat": 4,
  "nbformat_minor": 0,
  "metadata": {
    "colab": {
      "name": "Olist_Lead_Time_Prediction.ipynb",
      "provenance": [],
      "collapsed_sections": [],
      "authorship_tag": "ABX9TyNohfuxqbhodhuovcArlSps"
    },
    "kernelspec": {
      "name": "python3",
      "display_name": "Python 3"
    }
  },
  "cells": [
    {
      "cell_type": "code",
      "metadata": {
        "id": "rKYSQDUCicij"
      },
      "source": [
        "import numpy as np\n",
        "import pandas as pd\n",
        "import matplotlib.pyplot as plt\n",
        "import seaborn as sns\n",
        "import warnings\n",
        "warnings.filterwarnings(\"ignore\")\n",
        "sns.set_style('darkgrid')"
      ],
      "execution_count": null,
      "outputs": []
    },
    {
      "cell_type": "code",
      "metadata": {
        "colab": {
          "base_uri": "https://localhost:8080/"
        },
        "id": "JLZnYgpLio0Z",
        "outputId": "e30f873e-0dbb-429b-dbc7-2baf879be346"
      },
      "source": [
        "from google.colab import drive\n",
        "drive.mount('/content/drive')"
      ],
      "execution_count": null,
      "outputs": [
        {
          "output_type": "stream",
          "text": [
            "Mounted at /content/drive\n"
          ],
          "name": "stdout"
        }
      ]
    },
    {
      "cell_type": "code",
      "metadata": {
        "id": "IH_Bssiyicil"
      },
      "source": [
        "olist_customer = pd.read_csv('/content/drive/MyDrive/olist_customers_dataset.csv')\n",
        "olist_geolocation = pd.read_csv('/content/drive/MyDrive/olist_geolocation_dataset.csv')\n",
        "olist_orders = pd.read_csv('/content/drive/MyDrive/olist_orders_dataset.csv')\n",
        "olist_order_items = pd.read_csv('/content/drive/MyDrive/olist_order_items_dataset.csv')\n",
        "olist_order_payments = pd.read_csv('/content/drive/MyDrive/olist_order_payments_dataset.csv')\n",
        "olist_order_reviews = pd.read_csv('/content/drive/MyDrive/olist_order_reviews_dataset.csv')\n",
        "olist_products = pd.read_csv('/content/drive/MyDrive/olist_products_dataset.csv')\n",
        "olist_sellers = pd.read_csv('/content/drive/MyDrive/olist_sellers_dataset.csv')\n",
        "olist_products_translation = pd.read_csv('/content/drive/MyDrive/product_category_name_translation.csv')"
      ],
      "execution_count": null,
      "outputs": []
    },
    {
      "cell_type": "code",
      "metadata": {
        "colab": {
          "base_uri": "https://localhost:8080/",
          "height": 246
        },
        "id": "YC7arsgzicim",
        "outputId": "8320e320-c530-4cbb-c243-7be405c1ddc4"
      },
      "source": [
        "datasets = [olist_customer, olist_geolocation, olist_orders, olist_order_items, olist_order_payments,\n",
        "            olist_order_reviews, olist_products, olist_sellers, olist_products_translation]\n",
        "names = ['olist_customer', 'olist_geolocation', 'olist_orders', 'olist_order_items', 'olist_order_payments',\n",
        "         'olist_order_reviews', 'olist_products', 'olist_sellers', 'olist_products_translation']\n",
        "\n",
        "# Creating a DataFrame with useful information about all datasets\n",
        "data_info = pd.DataFrame()\n",
        "data_info['dataset'] = names\n",
        "data_info['n_rows'] = [df.shape[0] for df in datasets]\n",
        "data_info['n_cols'] = [df.shape[1] for df in datasets]\n",
        "data_info['total_null'] = [df.isnull().sum().sum() for df in datasets]\n",
        "data_info['qty_null_columns'] = [len([col for col, null in df.isnull().sum().items() if null > 0]) for df in datasets]\n",
        "data_info['null_columns'] = [', '.join([col for col, null in df.isnull().sum().items() if null > 0]) for df in datasets]\n",
        "\n",
        "data_info.style.background_gradient()"
      ],
      "execution_count": null,
      "outputs": [
        {
          "output_type": "execute_result",
          "data": {
            "text/html": [
              "<style  type=\"text/css\" >\n",
              "#T_5e7952f8_887b_11eb_9d82_0242ac1c0002row0_col1,#T_5e7952f8_887b_11eb_9d82_0242ac1c0002row2_col1,#T_5e7952f8_887b_11eb_9d82_0242ac1c0002row4_col1,#T_5e7952f8_887b_11eb_9d82_0242ac1c0002row5_col1{\n",
              "            background-color:  #f0eaf4;\n",
              "            color:  #000000;\n",
              "        }#T_5e7952f8_887b_11eb_9d82_0242ac1c0002row0_col2,#T_5e7952f8_887b_11eb_9d82_0242ac1c0002row1_col2,#T_5e7952f8_887b_11eb_9d82_0242ac1c0002row4_col2{\n",
              "            background-color:  #91b5d6;\n",
              "            color:  #000000;\n",
              "        }#T_5e7952f8_887b_11eb_9d82_0242ac1c0002row0_col3,#T_5e7952f8_887b_11eb_9d82_0242ac1c0002row0_col4,#T_5e7952f8_887b_11eb_9d82_0242ac1c0002row1_col3,#T_5e7952f8_887b_11eb_9d82_0242ac1c0002row1_col4,#T_5e7952f8_887b_11eb_9d82_0242ac1c0002row3_col3,#T_5e7952f8_887b_11eb_9d82_0242ac1c0002row3_col4,#T_5e7952f8_887b_11eb_9d82_0242ac1c0002row4_col3,#T_5e7952f8_887b_11eb_9d82_0242ac1c0002row4_col4,#T_5e7952f8_887b_11eb_9d82_0242ac1c0002row7_col1,#T_5e7952f8_887b_11eb_9d82_0242ac1c0002row7_col3,#T_5e7952f8_887b_11eb_9d82_0242ac1c0002row7_col4,#T_5e7952f8_887b_11eb_9d82_0242ac1c0002row8_col1,#T_5e7952f8_887b_11eb_9d82_0242ac1c0002row8_col2,#T_5e7952f8_887b_11eb_9d82_0242ac1c0002row8_col3,#T_5e7952f8_887b_11eb_9d82_0242ac1c0002row8_col4{\n",
              "            background-color:  #fff7fb;\n",
              "            color:  #000000;\n",
              "        }#T_5e7952f8_887b_11eb_9d82_0242ac1c0002row1_col1,#T_5e7952f8_887b_11eb_9d82_0242ac1c0002row5_col3,#T_5e7952f8_887b_11eb_9d82_0242ac1c0002row6_col2,#T_5e7952f8_887b_11eb_9d82_0242ac1c0002row6_col4{\n",
              "            background-color:  #023858;\n",
              "            color:  #f1f1f1;\n",
              "        }#T_5e7952f8_887b_11eb_9d82_0242ac1c0002row2_col2{\n",
              "            background-color:  #045d92;\n",
              "            color:  #f1f1f1;\n",
              "        }#T_5e7952f8_887b_11eb_9d82_0242ac1c0002row2_col3,#T_5e7952f8_887b_11eb_9d82_0242ac1c0002row6_col1{\n",
              "            background-color:  #faf3f9;\n",
              "            color:  #000000;\n",
              "        }#T_5e7952f8_887b_11eb_9d82_0242ac1c0002row2_col4{\n",
              "            background-color:  #a5bddb;\n",
              "            color:  #000000;\n",
              "        }#T_5e7952f8_887b_11eb_9d82_0242ac1c0002row3_col1{\n",
              "            background-color:  #eee9f3;\n",
              "            color:  #000000;\n",
              "        }#T_5e7952f8_887b_11eb_9d82_0242ac1c0002row3_col2,#T_5e7952f8_887b_11eb_9d82_0242ac1c0002row5_col2{\n",
              "            background-color:  #1379b5;\n",
              "            color:  #f1f1f1;\n",
              "        }#T_5e7952f8_887b_11eb_9d82_0242ac1c0002row5_col4{\n",
              "            background-color:  #d0d1e6;\n",
              "            color:  #000000;\n",
              "        }#T_5e7952f8_887b_11eb_9d82_0242ac1c0002row6_col3{\n",
              "            background-color:  #fdf5fa;\n",
              "            color:  #000000;\n",
              "        }#T_5e7952f8_887b_11eb_9d82_0242ac1c0002row7_col2{\n",
              "            background-color:  #c4cbe3;\n",
              "            color:  #000000;\n",
              "        }</style><table id=\"T_5e7952f8_887b_11eb_9d82_0242ac1c0002\" ><thead>    <tr>        <th class=\"blank level0\" ></th>        <th class=\"col_heading level0 col0\" >dataset</th>        <th class=\"col_heading level0 col1\" >n_rows</th>        <th class=\"col_heading level0 col2\" >n_cols</th>        <th class=\"col_heading level0 col3\" >total_null</th>        <th class=\"col_heading level0 col4\" >qty_null_columns</th>        <th class=\"col_heading level0 col5\" >null_columns</th>    </tr></thead><tbody>\n",
              "                <tr>\n",
              "                        <th id=\"T_5e7952f8_887b_11eb_9d82_0242ac1c0002level0_row0\" class=\"row_heading level0 row0\" >0</th>\n",
              "                        <td id=\"T_5e7952f8_887b_11eb_9d82_0242ac1c0002row0_col0\" class=\"data row0 col0\" >olist_customer</td>\n",
              "                        <td id=\"T_5e7952f8_887b_11eb_9d82_0242ac1c0002row0_col1\" class=\"data row0 col1\" >99441</td>\n",
              "                        <td id=\"T_5e7952f8_887b_11eb_9d82_0242ac1c0002row0_col2\" class=\"data row0 col2\" >5</td>\n",
              "                        <td id=\"T_5e7952f8_887b_11eb_9d82_0242ac1c0002row0_col3\" class=\"data row0 col3\" >0</td>\n",
              "                        <td id=\"T_5e7952f8_887b_11eb_9d82_0242ac1c0002row0_col4\" class=\"data row0 col4\" >0</td>\n",
              "                        <td id=\"T_5e7952f8_887b_11eb_9d82_0242ac1c0002row0_col5\" class=\"data row0 col5\" ></td>\n",
              "            </tr>\n",
              "            <tr>\n",
              "                        <th id=\"T_5e7952f8_887b_11eb_9d82_0242ac1c0002level0_row1\" class=\"row_heading level0 row1\" >1</th>\n",
              "                        <td id=\"T_5e7952f8_887b_11eb_9d82_0242ac1c0002row1_col0\" class=\"data row1 col0\" >olist_geolocation</td>\n",
              "                        <td id=\"T_5e7952f8_887b_11eb_9d82_0242ac1c0002row1_col1\" class=\"data row1 col1\" >1000163</td>\n",
              "                        <td id=\"T_5e7952f8_887b_11eb_9d82_0242ac1c0002row1_col2\" class=\"data row1 col2\" >5</td>\n",
              "                        <td id=\"T_5e7952f8_887b_11eb_9d82_0242ac1c0002row1_col3\" class=\"data row1 col3\" >0</td>\n",
              "                        <td id=\"T_5e7952f8_887b_11eb_9d82_0242ac1c0002row1_col4\" class=\"data row1 col4\" >0</td>\n",
              "                        <td id=\"T_5e7952f8_887b_11eb_9d82_0242ac1c0002row1_col5\" class=\"data row1 col5\" ></td>\n",
              "            </tr>\n",
              "            <tr>\n",
              "                        <th id=\"T_5e7952f8_887b_11eb_9d82_0242ac1c0002level0_row2\" class=\"row_heading level0 row2\" >2</th>\n",
              "                        <td id=\"T_5e7952f8_887b_11eb_9d82_0242ac1c0002row2_col0\" class=\"data row2 col0\" >olist_orders</td>\n",
              "                        <td id=\"T_5e7952f8_887b_11eb_9d82_0242ac1c0002row2_col1\" class=\"data row2 col1\" >99441</td>\n",
              "                        <td id=\"T_5e7952f8_887b_11eb_9d82_0242ac1c0002row2_col2\" class=\"data row2 col2\" >8</td>\n",
              "                        <td id=\"T_5e7952f8_887b_11eb_9d82_0242ac1c0002row2_col3\" class=\"data row2 col3\" >4908</td>\n",
              "                        <td id=\"T_5e7952f8_887b_11eb_9d82_0242ac1c0002row2_col4\" class=\"data row2 col4\" >3</td>\n",
              "                        <td id=\"T_5e7952f8_887b_11eb_9d82_0242ac1c0002row2_col5\" class=\"data row2 col5\" >order_approved_at, order_delivered_carrier_date, order_delivered_customer_date</td>\n",
              "            </tr>\n",
              "            <tr>\n",
              "                        <th id=\"T_5e7952f8_887b_11eb_9d82_0242ac1c0002level0_row3\" class=\"row_heading level0 row3\" >3</th>\n",
              "                        <td id=\"T_5e7952f8_887b_11eb_9d82_0242ac1c0002row3_col0\" class=\"data row3 col0\" >olist_order_items</td>\n",
              "                        <td id=\"T_5e7952f8_887b_11eb_9d82_0242ac1c0002row3_col1\" class=\"data row3 col1\" >112650</td>\n",
              "                        <td id=\"T_5e7952f8_887b_11eb_9d82_0242ac1c0002row3_col2\" class=\"data row3 col2\" >7</td>\n",
              "                        <td id=\"T_5e7952f8_887b_11eb_9d82_0242ac1c0002row3_col3\" class=\"data row3 col3\" >0</td>\n",
              "                        <td id=\"T_5e7952f8_887b_11eb_9d82_0242ac1c0002row3_col4\" class=\"data row3 col4\" >0</td>\n",
              "                        <td id=\"T_5e7952f8_887b_11eb_9d82_0242ac1c0002row3_col5\" class=\"data row3 col5\" ></td>\n",
              "            </tr>\n",
              "            <tr>\n",
              "                        <th id=\"T_5e7952f8_887b_11eb_9d82_0242ac1c0002level0_row4\" class=\"row_heading level0 row4\" >4</th>\n",
              "                        <td id=\"T_5e7952f8_887b_11eb_9d82_0242ac1c0002row4_col0\" class=\"data row4 col0\" >olist_order_payments</td>\n",
              "                        <td id=\"T_5e7952f8_887b_11eb_9d82_0242ac1c0002row4_col1\" class=\"data row4 col1\" >103886</td>\n",
              "                        <td id=\"T_5e7952f8_887b_11eb_9d82_0242ac1c0002row4_col2\" class=\"data row4 col2\" >5</td>\n",
              "                        <td id=\"T_5e7952f8_887b_11eb_9d82_0242ac1c0002row4_col3\" class=\"data row4 col3\" >0</td>\n",
              "                        <td id=\"T_5e7952f8_887b_11eb_9d82_0242ac1c0002row4_col4\" class=\"data row4 col4\" >0</td>\n",
              "                        <td id=\"T_5e7952f8_887b_11eb_9d82_0242ac1c0002row4_col5\" class=\"data row4 col5\" ></td>\n",
              "            </tr>\n",
              "            <tr>\n",
              "                        <th id=\"T_5e7952f8_887b_11eb_9d82_0242ac1c0002level0_row5\" class=\"row_heading level0 row5\" >5</th>\n",
              "                        <td id=\"T_5e7952f8_887b_11eb_9d82_0242ac1c0002row5_col0\" class=\"data row5 col0\" >olist_order_reviews</td>\n",
              "                        <td id=\"T_5e7952f8_887b_11eb_9d82_0242ac1c0002row5_col1\" class=\"data row5 col1\" >100000</td>\n",
              "                        <td id=\"T_5e7952f8_887b_11eb_9d82_0242ac1c0002row5_col2\" class=\"data row5 col2\" >7</td>\n",
              "                        <td id=\"T_5e7952f8_887b_11eb_9d82_0242ac1c0002row5_col3\" class=\"data row5 col3\" >146532</td>\n",
              "                        <td id=\"T_5e7952f8_887b_11eb_9d82_0242ac1c0002row5_col4\" class=\"data row5 col4\" >2</td>\n",
              "                        <td id=\"T_5e7952f8_887b_11eb_9d82_0242ac1c0002row5_col5\" class=\"data row5 col5\" >review_comment_title, review_comment_message</td>\n",
              "            </tr>\n",
              "            <tr>\n",
              "                        <th id=\"T_5e7952f8_887b_11eb_9d82_0242ac1c0002level0_row6\" class=\"row_heading level0 row6\" >6</th>\n",
              "                        <td id=\"T_5e7952f8_887b_11eb_9d82_0242ac1c0002row6_col0\" class=\"data row6 col0\" >olist_products</td>\n",
              "                        <td id=\"T_5e7952f8_887b_11eb_9d82_0242ac1c0002row6_col1\" class=\"data row6 col1\" >32951</td>\n",
              "                        <td id=\"T_5e7952f8_887b_11eb_9d82_0242ac1c0002row6_col2\" class=\"data row6 col2\" >9</td>\n",
              "                        <td id=\"T_5e7952f8_887b_11eb_9d82_0242ac1c0002row6_col3\" class=\"data row6 col3\" >2448</td>\n",
              "                        <td id=\"T_5e7952f8_887b_11eb_9d82_0242ac1c0002row6_col4\" class=\"data row6 col4\" >8</td>\n",
              "                        <td id=\"T_5e7952f8_887b_11eb_9d82_0242ac1c0002row6_col5\" class=\"data row6 col5\" >product_category_name, product_name_lenght, product_description_lenght, product_photos_qty, product_weight_g, product_length_cm, product_height_cm, product_width_cm</td>\n",
              "            </tr>\n",
              "            <tr>\n",
              "                        <th id=\"T_5e7952f8_887b_11eb_9d82_0242ac1c0002level0_row7\" class=\"row_heading level0 row7\" >7</th>\n",
              "                        <td id=\"T_5e7952f8_887b_11eb_9d82_0242ac1c0002row7_col0\" class=\"data row7 col0\" >olist_sellers</td>\n",
              "                        <td id=\"T_5e7952f8_887b_11eb_9d82_0242ac1c0002row7_col1\" class=\"data row7 col1\" >3095</td>\n",
              "                        <td id=\"T_5e7952f8_887b_11eb_9d82_0242ac1c0002row7_col2\" class=\"data row7 col2\" >4</td>\n",
              "                        <td id=\"T_5e7952f8_887b_11eb_9d82_0242ac1c0002row7_col3\" class=\"data row7 col3\" >0</td>\n",
              "                        <td id=\"T_5e7952f8_887b_11eb_9d82_0242ac1c0002row7_col4\" class=\"data row7 col4\" >0</td>\n",
              "                        <td id=\"T_5e7952f8_887b_11eb_9d82_0242ac1c0002row7_col5\" class=\"data row7 col5\" ></td>\n",
              "            </tr>\n",
              "            <tr>\n",
              "                        <th id=\"T_5e7952f8_887b_11eb_9d82_0242ac1c0002level0_row8\" class=\"row_heading level0 row8\" >8</th>\n",
              "                        <td id=\"T_5e7952f8_887b_11eb_9d82_0242ac1c0002row8_col0\" class=\"data row8 col0\" >olist_products_translation</td>\n",
              "                        <td id=\"T_5e7952f8_887b_11eb_9d82_0242ac1c0002row8_col1\" class=\"data row8 col1\" >71</td>\n",
              "                        <td id=\"T_5e7952f8_887b_11eb_9d82_0242ac1c0002row8_col2\" class=\"data row8 col2\" >2</td>\n",
              "                        <td id=\"T_5e7952f8_887b_11eb_9d82_0242ac1c0002row8_col3\" class=\"data row8 col3\" >0</td>\n",
              "                        <td id=\"T_5e7952f8_887b_11eb_9d82_0242ac1c0002row8_col4\" class=\"data row8 col4\" >0</td>\n",
              "                        <td id=\"T_5e7952f8_887b_11eb_9d82_0242ac1c0002row8_col5\" class=\"data row8 col5\" ></td>\n",
              "            </tr>\n",
              "    </tbody></table>"
            ],
            "text/plain": [
              "<pandas.io.formats.style.Styler at 0x7fc70e765990>"
            ]
          },
          "metadata": {
            "tags": []
          },
          "execution_count": 4
        }
      ]
    },
    {
      "cell_type": "code",
      "metadata": {
        "colab": {
          "base_uri": "https://localhost:8080/"
        },
        "id": "9mRuBkxpatYE",
        "outputId": "42c3cfe8-d860-47f0-b7ab-e20017652a12"
      },
      "source": [
        "olist_orders.info()"
      ],
      "execution_count": null,
      "outputs": [
        {
          "output_type": "stream",
          "text": [
            "<class 'pandas.core.frame.DataFrame'>\n",
            "RangeIndex: 99441 entries, 0 to 99440\n",
            "Data columns (total 8 columns):\n",
            " #   Column                         Non-Null Count  Dtype \n",
            "---  ------                         --------------  ----- \n",
            " 0   order_id                       99441 non-null  object\n",
            " 1   customer_id                    99441 non-null  object\n",
            " 2   order_status                   99441 non-null  object\n",
            " 3   order_purchase_timestamp       99441 non-null  object\n",
            " 4   order_approved_at              99281 non-null  object\n",
            " 5   order_delivered_carrier_date   97658 non-null  object\n",
            " 6   order_delivered_customer_date  96476 non-null  object\n",
            " 7   order_estimated_delivery_date  99441 non-null  object\n",
            "dtypes: object(8)\n",
            "memory usage: 6.1+ MB\n"
          ],
          "name": "stdout"
        }
      ]
    },
    {
      "cell_type": "markdown",
      "metadata": {
        "id": "7Cv3MBZ0yJjI"
      },
      "source": [
        "#### Filtering only delivered status"
      ]
    },
    {
      "cell_type": "code",
      "metadata": {
        "colab": {
          "base_uri": "https://localhost:8080/"
        },
        "id": "yvK0zWvraLBN",
        "outputId": "986bb263-990b-4916-afec-e3f8133d068a"
      },
      "source": [
        "order_deliver = olist_orders[olist_orders['order_status'] == 'delivered']\n",
        "order_deliver.isnull().sum()"
      ],
      "execution_count": null,
      "outputs": [
        {
          "output_type": "execute_result",
          "data": {
            "text/plain": [
              "order_id                          0\n",
              "customer_id                       0\n",
              "order_status                      0\n",
              "order_purchase_timestamp          0\n",
              "order_approved_at                14\n",
              "order_delivered_carrier_date      2\n",
              "order_delivered_customer_date     8\n",
              "order_estimated_delivery_date     0\n",
              "dtype: int64"
            ]
          },
          "metadata": {
            "tags": []
          },
          "execution_count": 6
        }
      ]
    },
    {
      "cell_type": "markdown",
      "metadata": {
        "id": "ylcBmHxzyPKt"
      },
      "source": [
        "- Has null values for approval date, delivery date. So, dropping null values."
      ]
    },
    {
      "cell_type": "code",
      "metadata": {
        "id": "nzIZggXQaoik"
      },
      "source": [
        "order_deliver = order_deliver.dropna()"
      ],
      "execution_count": null,
      "outputs": []
    },
    {
      "cell_type": "markdown",
      "metadata": {
        "id": "Me1QPOhbysFb"
      },
      "source": [
        "#### Feature Engineer - Lead Time for every order(in hrs)\n",
        "- Lead Time is basically time between placing an order and receiving it.\n",
        "- Measuring it in hours."
      ]
    },
    {
      "cell_type": "code",
      "metadata": {
        "colab": {
          "base_uri": "https://localhost:8080/",
          "height": 224
        },
        "id": "bHLgbUo_bi3C",
        "outputId": "e2e7bd90-bc41-4680-da2b-5433336fdf5f"
      },
      "source": [
        "order_deliver['Lead'] = (pd.to_datetime(order_deliver['order_delivered_customer_date']) - pd.to_datetime(order_deliver['order_approved_at'])).astype('timedelta64[h]')\n",
        "order_deliver.head()"
      ],
      "execution_count": null,
      "outputs": [
        {
          "output_type": "execute_result",
          "data": {
            "text/html": [
              "<div>\n",
              "<style scoped>\n",
              "    .dataframe tbody tr th:only-of-type {\n",
              "        vertical-align: middle;\n",
              "    }\n",
              "\n",
              "    .dataframe tbody tr th {\n",
              "        vertical-align: top;\n",
              "    }\n",
              "\n",
              "    .dataframe thead th {\n",
              "        text-align: right;\n",
              "    }\n",
              "</style>\n",
              "<table border=\"1\" class=\"dataframe\">\n",
              "  <thead>\n",
              "    <tr style=\"text-align: right;\">\n",
              "      <th></th>\n",
              "      <th>order_id</th>\n",
              "      <th>customer_id</th>\n",
              "      <th>order_status</th>\n",
              "      <th>order_purchase_timestamp</th>\n",
              "      <th>order_approved_at</th>\n",
              "      <th>order_delivered_carrier_date</th>\n",
              "      <th>order_delivered_customer_date</th>\n",
              "      <th>order_estimated_delivery_date</th>\n",
              "      <th>Lead</th>\n",
              "    </tr>\n",
              "  </thead>\n",
              "  <tbody>\n",
              "    <tr>\n",
              "      <th>0</th>\n",
              "      <td>e481f51cbdc54678b7cc49136f2d6af7</td>\n",
              "      <td>9ef432eb6251297304e76186b10a928d</td>\n",
              "      <td>delivered</td>\n",
              "      <td>2017-10-02 10:56:33</td>\n",
              "      <td>2017-10-02 11:07:15</td>\n",
              "      <td>2017-10-04 19:55:00</td>\n",
              "      <td>2017-10-10 21:25:13</td>\n",
              "      <td>2017-10-18 00:00:00</td>\n",
              "      <td>202.0</td>\n",
              "    </tr>\n",
              "    <tr>\n",
              "      <th>1</th>\n",
              "      <td>53cdb2fc8bc7dce0b6741e2150273451</td>\n",
              "      <td>b0830fb4747a6c6d20dea0b8c802d7ef</td>\n",
              "      <td>delivered</td>\n",
              "      <td>2018-07-24 20:41:37</td>\n",
              "      <td>2018-07-26 03:24:27</td>\n",
              "      <td>2018-07-26 14:31:00</td>\n",
              "      <td>2018-08-07 15:27:45</td>\n",
              "      <td>2018-08-13 00:00:00</td>\n",
              "      <td>300.0</td>\n",
              "    </tr>\n",
              "    <tr>\n",
              "      <th>2</th>\n",
              "      <td>47770eb9100c2d0c44946d9cf07ec65d</td>\n",
              "      <td>41ce2a54c0b03bf3443c3d931a367089</td>\n",
              "      <td>delivered</td>\n",
              "      <td>2018-08-08 08:38:49</td>\n",
              "      <td>2018-08-08 08:55:23</td>\n",
              "      <td>2018-08-08 13:50:00</td>\n",
              "      <td>2018-08-17 18:06:29</td>\n",
              "      <td>2018-09-04 00:00:00</td>\n",
              "      <td>225.0</td>\n",
              "    </tr>\n",
              "    <tr>\n",
              "      <th>3</th>\n",
              "      <td>949d5b44dbf5de918fe9c16f97b45f8a</td>\n",
              "      <td>f88197465ea7920adcdbec7375364d82</td>\n",
              "      <td>delivered</td>\n",
              "      <td>2017-11-18 19:28:06</td>\n",
              "      <td>2017-11-18 19:45:59</td>\n",
              "      <td>2017-11-22 13:39:59</td>\n",
              "      <td>2017-12-02 00:28:42</td>\n",
              "      <td>2017-12-15 00:00:00</td>\n",
              "      <td>316.0</td>\n",
              "    </tr>\n",
              "    <tr>\n",
              "      <th>4</th>\n",
              "      <td>ad21c59c0840e6cb83a9ceb5573f8159</td>\n",
              "      <td>8ab97904e6daea8866dbdbc4fb7aad2c</td>\n",
              "      <td>delivered</td>\n",
              "      <td>2018-02-13 21:18:39</td>\n",
              "      <td>2018-02-13 22:20:29</td>\n",
              "      <td>2018-02-14 19:46:34</td>\n",
              "      <td>2018-02-16 18:17:02</td>\n",
              "      <td>2018-02-26 00:00:00</td>\n",
              "      <td>67.0</td>\n",
              "    </tr>\n",
              "  </tbody>\n",
              "</table>\n",
              "</div>"
            ],
            "text/plain": [
              "                           order_id  ...   Lead\n",
              "0  e481f51cbdc54678b7cc49136f2d6af7  ...  202.0\n",
              "1  53cdb2fc8bc7dce0b6741e2150273451  ...  300.0\n",
              "2  47770eb9100c2d0c44946d9cf07ec65d  ...  225.0\n",
              "3  949d5b44dbf5de918fe9c16f97b45f8a  ...  316.0\n",
              "4  ad21c59c0840e6cb83a9ceb5573f8159  ...   67.0\n",
              "\n",
              "[5 rows x 9 columns]"
            ]
          },
          "metadata": {
            "tags": []
          },
          "execution_count": 8
        }
      ]
    },
    {
      "cell_type": "code",
      "metadata": {
        "colab": {
          "base_uri": "https://localhost:8080/",
          "height": 388
        },
        "id": "1Ei4YsjbbvwL",
        "outputId": "294f7900-7fa4-4b4d-ded8-8444c15f5fc2"
      },
      "source": [
        "plt.figure(figsize=(15,6))\n",
        "sns.distplot(order_deliver['Lead']);"
      ],
      "execution_count": null,
      "outputs": [
        {
          "output_type": "display_data",
          "data": {
            "image/png": "[encoded data removed]",
            "text/plain": [
              "<Figure size 1080x432 with 1 Axes>"
            ]
          },
          "metadata": {
            "tags": [],
            "needs_background": "light"
          }
        }
      ]
    },
    {
      "cell_type": "markdown",
      "metadata": {
        "id": "QL5zlK2jzG0v"
      },
      "source": [
        "- Has negative values, could be data entry issue. So, dropping negative lead time."
      ]
    },
    {
      "cell_type": "code",
      "metadata": {
        "colab": {
          "base_uri": "https://localhost:8080/",
          "height": 388
        },
        "id": "nTgLfGe4cecD",
        "outputId": "a7e88447-9e3f-4703-eeab-7318ed1431ac"
      },
      "source": [
        "order_deliver = order_deliver[order_deliver['Lead'] > 0]\n",
        "plt.figure(figsize=(15,6))\n",
        "sns.distplot(order_deliver['Lead']);"
      ],
      "execution_count": null,
      "outputs": [
        {
          "output_type": "display_data",
          "data": {
            "image/png": "[encoded data removed]",
            "text/plain": [
              "<Figure size 1080x432 with 1 Axes>"
            ]
          },
          "metadata": {
            "tags": [],
            "needs_background": "light"
          }
        }
      ]
    },
    {
      "cell_type": "markdown",
      "metadata": {
        "id": "34y-MwiYzSQR"
      },
      "source": [
        "- Most of the orders are delivered within 10 days."
      ]
    },
    {
      "cell_type": "markdown",
      "metadata": {
        "id": "6uBBrc4jJCWO"
      },
      "source": [
        "#### Overall Lead time average across all the orders"
      ]
    },
    {
      "cell_type": "code",
      "metadata": {
        "colab": {
          "base_uri": "https://localhost:8080/",
          "height": 439
        },
        "id": "Ff9LuVKvcuUM",
        "outputId": "6e7c781e-1c38-4e96-d7f2-655a8d2d458e"
      },
      "source": [
        "order_deliver = order_deliver.sort_values('order_approved_at')\n",
        "order_deliver"
      ],
      "execution_count": null,
      "outputs": [
        {
          "output_type": "execute_result",
          "data": {
            "text/html": [
              "<div>\n",
              "<style scoped>\n",
              "    .dataframe tbody tr th:only-of-type {\n",
              "        vertical-align: middle;\n",
              "    }\n",
              "\n",
              "    .dataframe tbody tr th {\n",
              "        vertical-align: top;\n",
              "    }\n",
              "\n",
              "    .dataframe thead th {\n",
              "        text-align: right;\n",
              "    }\n",
              "</style>\n",
              "<table border=\"1\" class=\"dataframe\">\n",
              "  <thead>\n",
              "    <tr style=\"text-align: right;\">\n",
              "      <th></th>\n",
              "      <th>order_id</th>\n",
              "      <th>customer_id</th>\n",
              "      <th>order_status</th>\n",
              "      <th>order_purchase_timestamp</th>\n",
              "      <th>order_approved_at</th>\n",
              "      <th>order_delivered_carrier_date</th>\n",
              "      <th>order_delivered_customer_date</th>\n",
              "      <th>order_estimated_delivery_date</th>\n",
              "      <th>Lead</th>\n",
              "    </tr>\n",
              "  </thead>\n",
              "  <tbody>\n",
              "    <tr>\n",
              "      <th>30710</th>\n",
              "      <td>bfbd0f9bdef84302105ad712db648a6c</td>\n",
              "      <td>86dc2ffce2dfff336de2f386a786e574</td>\n",
              "      <td>delivered</td>\n",
              "      <td>2016-09-15 12:16:38</td>\n",
              "      <td>2016-09-15 12:16:38</td>\n",
              "      <td>2016-11-07 17:11:53</td>\n",
              "      <td>2016-11-09 07:47:38</td>\n",
              "      <td>2016-10-04 00:00:00</td>\n",
              "      <td>1315.0</td>\n",
              "    </tr>\n",
              "    <tr>\n",
              "      <th>64058</th>\n",
              "      <td>1ff217aa612f6cd7c4255c9bfe931c8b</td>\n",
              "      <td>b3a9bf200375f53cc5c6991919c356fd</td>\n",
              "      <td>delivered</td>\n",
              "      <td>2016-10-04 09:16:33</td>\n",
              "      <td>2016-10-04 09:43:32</td>\n",
              "      <td>2016-10-21 16:33:45</td>\n",
              "      <td>2016-10-24 16:33:45</td>\n",
              "      <td>2016-11-24 00:00:00</td>\n",
              "      <td>486.0</td>\n",
              "    </tr>\n",
              "    <tr>\n",
              "      <th>6747</th>\n",
              "      <td>cd3b8574c82b42fc8129f6d502690c3e</td>\n",
              "      <td>7812fcebfc5e8065d31e1bb5f0017dae</td>\n",
              "      <td>delivered</td>\n",
              "      <td>2016-10-03 22:31:31</td>\n",
              "      <td>2016-10-04 10:19:23</td>\n",
              "      <td>2016-10-08 10:34:01</td>\n",
              "      <td>2016-10-14 16:08:00</td>\n",
              "      <td>2016-11-23 00:00:00</td>\n",
              "      <td>245.0</td>\n",
              "    </tr>\n",
              "    <tr>\n",
              "      <th>67037</th>\n",
              "      <td>ed8c7b1b3eb256c70ce0c74231e1da88</td>\n",
              "      <td>da0ba2a9935bca5b4610b0e3bca9d3b4</td>\n",
              "      <td>delivered</td>\n",
              "      <td>2016-10-04 09:59:03</td>\n",
              "      <td>2016-10-04 10:25:46</td>\n",
              "      <td>2016-11-11 15:29:14</td>\n",
              "      <td>2016-11-18 08:51:07</td>\n",
              "      <td>2016-11-24 00:00:00</td>\n",
              "      <td>1078.0</td>\n",
              "    </tr>\n",
              "    <tr>\n",
              "      <th>88472</th>\n",
              "      <td>d207cc272675637bfed0062edffd0818</td>\n",
              "      <td>b8cf418e97ae795672d326288dfab7a7</td>\n",
              "      <td>delivered</td>\n",
              "      <td>2016-10-03 22:06:03</td>\n",
              "      <td>2016-10-04 10:28:07</td>\n",
              "      <td>2016-10-21 14:23:37</td>\n",
              "      <td>2016-10-31 11:07:42</td>\n",
              "      <td>2016-11-23 00:00:00</td>\n",
              "      <td>648.0</td>\n",
              "    </tr>\n",
              "    <tr>\n",
              "      <th>...</th>\n",
              "      <td>...</td>\n",
              "      <td>...</td>\n",
              "      <td>...</td>\n",
              "      <td>...</td>\n",
              "      <td>...</td>\n",
              "      <td>...</td>\n",
              "      <td>...</td>\n",
              "      <td>...</td>\n",
              "      <td>...</td>\n",
              "    </tr>\n",
              "    <tr>\n",
              "      <th>99369</th>\n",
              "      <td>52018484704db3661b98ce838612b507</td>\n",
              "      <td>e450a297a7bc6839ceb0cf1a2377fa02</td>\n",
              "      <td>delivered</td>\n",
              "      <td>2018-08-29 12:25:59</td>\n",
              "      <td>2018-08-29 12:35:17</td>\n",
              "      <td>2018-08-29 13:38:00</td>\n",
              "      <td>2018-08-30 22:48:27</td>\n",
              "      <td>2018-09-03 00:00:00</td>\n",
              "      <td>34.0</td>\n",
              "    </tr>\n",
              "    <tr>\n",
              "      <th>31486</th>\n",
              "      <td>168626408cb32af0ffaf76711caae1dc</td>\n",
              "      <td>6e353700bc7bcdf6ebc15d6de16d7002</td>\n",
              "      <td>delivered</td>\n",
              "      <td>2018-08-29 14:18:28</td>\n",
              "      <td>2018-08-29 14:30:23</td>\n",
              "      <td>2018-08-29 18:51:00</td>\n",
              "      <td>2018-08-30 16:52:31</td>\n",
              "      <td>2018-09-11 00:00:00</td>\n",
              "      <td>26.0</td>\n",
              "    </tr>\n",
              "    <tr>\n",
              "      <th>30077</th>\n",
              "      <td>0b223d92c27432930dfe407c6aea3041</td>\n",
              "      <td>e60df9449653a95af4549bbfcb18a6eb</td>\n",
              "      <td>delivered</td>\n",
              "      <td>2018-08-29 14:18:23</td>\n",
              "      <td>2018-08-29 14:31:07</td>\n",
              "      <td>2018-08-29 15:29:00</td>\n",
              "      <td>2018-08-30 16:24:55</td>\n",
              "      <td>2018-09-04 00:00:00</td>\n",
              "      <td>25.0</td>\n",
              "    </tr>\n",
              "    <tr>\n",
              "      <th>69678</th>\n",
              "      <td>03ef5dedbe7492bdae72eec50764c43f</td>\n",
              "      <td>496630b6740bcca28fce9ba50d8a26ef</td>\n",
              "      <td>delivered</td>\n",
              "      <td>2018-08-29 14:52:00</td>\n",
              "      <td>2018-08-29 15:05:22</td>\n",
              "      <td>2018-08-29 20:01:00</td>\n",
              "      <td>2018-08-30 16:36:59</td>\n",
              "      <td>2018-09-03 00:00:00</td>\n",
              "      <td>25.0</td>\n",
              "    </tr>\n",
              "    <tr>\n",
              "      <th>88097</th>\n",
              "      <td>35a972d7f8436f405b56e36add1a7140</td>\n",
              "      <td>898b7fee99c4e42170ab69ba59be0a8b</td>\n",
              "      <td>delivered</td>\n",
              "      <td>2018-08-29 15:00:37</td>\n",
              "      <td>2018-08-29 15:10:26</td>\n",
              "      <td>2018-08-29 16:57:00</td>\n",
              "      <td>2018-08-30 16:23:36</td>\n",
              "      <td>2018-09-05 00:00:00</td>\n",
              "      <td>25.0</td>\n",
              "    </tr>\n",
              "  </tbody>\n",
              "</table>\n",
              "<p>96379 rows × 9 columns</p>\n",
              "</div>"
            ],
            "text/plain": [
              "                               order_id  ...    Lead\n",
              "30710  bfbd0f9bdef84302105ad712db648a6c  ...  1315.0\n",
              "64058  1ff217aa612f6cd7c4255c9bfe931c8b  ...   486.0\n",
              "6747   cd3b8574c82b42fc8129f6d502690c3e  ...   245.0\n",
              "67037  ed8c7b1b3eb256c70ce0c74231e1da88  ...  1078.0\n",
              "88472  d207cc272675637bfed0062edffd0818  ...   648.0\n",
              "...                                 ...  ...     ...\n",
              "99369  52018484704db3661b98ce838612b507  ...    34.0\n",
              "31486  168626408cb32af0ffaf76711caae1dc  ...    26.0\n",
              "30077  0b223d92c27432930dfe407c6aea3041  ...    25.0\n",
              "69678  03ef5dedbe7492bdae72eec50764c43f  ...    25.0\n",
              "88097  35a972d7f8436f405b56e36add1a7140  ...    25.0\n",
              "\n",
              "[96379 rows x 9 columns]"
            ]
          },
          "metadata": {
            "tags": []
          },
          "execution_count": 11
        }
      ]
    },
    {
      "cell_type": "code",
      "metadata": {
        "colab": {
          "base_uri": "https://localhost:8080/"
        },
        "id": "MlUOhYztc8xF",
        "outputId": "bcc3053f-b3d8-4db7-b3cd-f5f1f9e51348"
      },
      "source": [
        "delivery_days_average = order_deliver.groupby(pd.to_datetime(order_deliver['order_approved_at']).dt.date)['Lead'].mean()\n",
        "delivery_days_average"
      ],
      "execution_count": null,
      "outputs": [
        {
          "output_type": "execute_result",
          "data": {
            "text/plain": [
              "order_approved_at\n",
              "2016-09-15    1315.000000\n",
              "2016-10-04     576.764706\n",
              "2016-10-05     644.142857\n",
              "2016-10-06     520.989247\n",
              "2016-10-07     425.130435\n",
              "                 ...     \n",
              "2018-08-25     105.925926\n",
              "2018-08-26      81.200000\n",
              "2018-08-27      57.796875\n",
              "2018-08-28      45.392857\n",
              "2018-08-29      31.933333\n",
              "Name: Lead, Length: 609, dtype: float64"
            ]
          },
          "metadata": {
            "tags": []
          },
          "execution_count": 12
        }
      ]
    },
    {
      "cell_type": "code",
      "metadata": {
        "colab": {
          "base_uri": "https://localhost:8080/"
        },
        "id": "rcapkehzdKeY",
        "outputId": "4f37b381-5015-4088-bcbe-5fc4518d67c2"
      },
      "source": [
        "average_lead = round(delivery_days_average.mean(),2)\n",
        "print('On Average, the Lead time of all the orders is',average_lead)"
      ],
      "execution_count": null,
      "outputs": [
        {
          "output_type": "stream",
          "text": [
            "On Average, the Lead time of all the orders is 292.79\n"
          ],
          "name": "stdout"
        }
      ]
    },
    {
      "cell_type": "code",
      "metadata": {
        "colab": {
          "base_uri": "https://localhost:8080/",
          "height": 513
        },
        "id": "XjuGbN0mdfXz",
        "outputId": "b9ba1fba-0d40-4908-adf9-befcfcee237b"
      },
      "source": [
        "plt.figure(figsize = (12,8))\n",
        "plt.plot(delivery_days_average.index, delivery_days_average, label = 'daily_delivery_time')\n",
        "plt.axhline(y=average_lead, linestyle='--', color='blue', label = 'average : ' + str(average_lead) + ' hours')\n",
        "plt.xlabel('Date')\n",
        "plt.ylabel('average delivery time (hours)')\n",
        "plt.title('Average delivery time')\n",
        "plt.legend(loc='best')\n",
        "plt.show()"
      ],
      "execution_count": null,
      "outputs": [
        {
          "output_type": "display_data",
          "data": {
            "image/png": "[encoded data removed]",
            "text/plain": [
              "<Figure size 864x576 with 1 Axes>"
            ]
          },
          "metadata": {
            "tags": [],
            "needs_background": "light"
          }
        }
      ]
    },
    {
      "cell_type": "code",
      "metadata": {
        "colab": {
          "base_uri": "https://localhost:8080/",
          "height": 456
        },
        "id": "oQhUB8j7dlr4",
        "outputId": "b0a6ba83-51f2-446a-ccd3-2d518f89d804"
      },
      "source": [
        "items_seller = pd.merge(olist_order_items, olist_sellers, on='seller_id')\n",
        "order_items_seller = pd.merge(items_seller,order_deliver, on='order_id')\n",
        "order_items_seller.sort_values('order_purchase_timestamp')"
      ],
      "execution_count": null,
      "outputs": [
        {
          "output_type": "execute_result",
          "data": {
            "text/html": [
              "<div>\n",
              "<style scoped>\n",
              "    .dataframe tbody tr th:only-of-type {\n",
              "        vertical-align: middle;\n",
              "    }\n",
              "\n",
              "    .dataframe tbody tr th {\n",
              "        vertical-align: top;\n",
              "    }\n",
              "\n",
              "    .dataframe thead th {\n",
              "        text-align: right;\n",
              "    }\n",
              "</style>\n",
              "<table border=\"1\" class=\"dataframe\">\n",
              "  <thead>\n",
              "    <tr style=\"text-align: right;\">\n",
              "      <th></th>\n",
              "      <th>order_id</th>\n",
              "      <th>order_item_id</th>\n",
              "      <th>product_id</th>\n",
              "      <th>seller_id</th>\n",
              "      <th>shipping_limit_date</th>\n",
              "      <th>price</th>\n",
              "      <th>freight_value</th>\n",
              "      <th>seller_zip_code_prefix</th>\n",
              "      <th>seller_city</th>\n",
              "      <th>seller_state</th>\n",
              "      <th>customer_id</th>\n",
              "      <th>order_status</th>\n",
              "      <th>order_purchase_timestamp</th>\n",
              "      <th>order_approved_at</th>\n",
              "      <th>order_delivered_carrier_date</th>\n",
              "      <th>order_delivered_customer_date</th>\n",
              "      <th>order_estimated_delivery_date</th>\n",
              "      <th>Lead</th>\n",
              "    </tr>\n",
              "  </thead>\n",
              "  <tbody>\n",
              "    <tr>\n",
              "      <th>90324</th>\n",
              "      <td>bfbd0f9bdef84302105ad712db648a6c</td>\n",
              "      <td>2</td>\n",
              "      <td>5a6b04657a4c5ee34285d1e4619a96b4</td>\n",
              "      <td>ecccfa2bb93b34a3bf033cc5d1dcdc69</td>\n",
              "      <td>2016-09-19 23:11:33</td>\n",
              "      <td>44.99</td>\n",
              "      <td>2.83</td>\n",
              "      <td>81810</td>\n",
              "      <td>curitiba</td>\n",
              "      <td>PR</td>\n",
              "      <td>86dc2ffce2dfff336de2f386a786e574</td>\n",
              "      <td>delivered</td>\n",
              "      <td>2016-09-15 12:16:38</td>\n",
              "      <td>2016-09-15 12:16:38</td>\n",
              "      <td>2016-11-07 17:11:53</td>\n",
              "      <td>2016-11-09 07:47:38</td>\n",
              "      <td>2016-10-04 00:00:00</td>\n",
              "      <td>1315.0</td>\n",
              "    </tr>\n",
              "    <tr>\n",
              "      <th>90323</th>\n",
              "      <td>bfbd0f9bdef84302105ad712db648a6c</td>\n",
              "      <td>1</td>\n",
              "      <td>5a6b04657a4c5ee34285d1e4619a96b4</td>\n",
              "      <td>ecccfa2bb93b34a3bf033cc5d1dcdc69</td>\n",
              "      <td>2016-09-19 23:11:33</td>\n",
              "      <td>44.99</td>\n",
              "      <td>2.83</td>\n",
              "      <td>81810</td>\n",
              "      <td>curitiba</td>\n",
              "      <td>PR</td>\n",
              "      <td>86dc2ffce2dfff336de2f386a786e574</td>\n",
              "      <td>delivered</td>\n",
              "      <td>2016-09-15 12:16:38</td>\n",
              "      <td>2016-09-15 12:16:38</td>\n",
              "      <td>2016-11-07 17:11:53</td>\n",
              "      <td>2016-11-09 07:47:38</td>\n",
              "      <td>2016-10-04 00:00:00</td>\n",
              "      <td>1315.0</td>\n",
              "    </tr>\n",
              "    <tr>\n",
              "      <th>90325</th>\n",
              "      <td>bfbd0f9bdef84302105ad712db648a6c</td>\n",
              "      <td>3</td>\n",
              "      <td>5a6b04657a4c5ee34285d1e4619a96b4</td>\n",
              "      <td>ecccfa2bb93b34a3bf033cc5d1dcdc69</td>\n",
              "      <td>2016-09-19 23:11:33</td>\n",
              "      <td>44.99</td>\n",
              "      <td>2.83</td>\n",
              "      <td>81810</td>\n",
              "      <td>curitiba</td>\n",
              "      <td>PR</td>\n",
              "      <td>86dc2ffce2dfff336de2f386a786e574</td>\n",
              "      <td>delivered</td>\n",
              "      <td>2016-09-15 12:16:38</td>\n",
              "      <td>2016-09-15 12:16:38</td>\n",
              "      <td>2016-11-07 17:11:53</td>\n",
              "      <td>2016-11-09 07:47:38</td>\n",
              "      <td>2016-10-04 00:00:00</td>\n",
              "      <td>1315.0</td>\n",
              "    </tr>\n",
              "    <tr>\n",
              "      <th>52882</th>\n",
              "      <td>3b697a20d9e427646d92567910af6d57</td>\n",
              "      <td>1</td>\n",
              "      <td>3ae08df6bcbfe23586dd431c40bddbb7</td>\n",
              "      <td>522620dcb18a6b31cd7bdf73665113a9</td>\n",
              "      <td>2016-10-21 16:27:20</td>\n",
              "      <td>29.90</td>\n",
              "      <td>15.56</td>\n",
              "      <td>85801</td>\n",
              "      <td>cascavel</td>\n",
              "      <td>PR</td>\n",
              "      <td>355077684019f7f60a031656bd7262b8</td>\n",
              "      <td>delivered</td>\n",
              "      <td>2016-10-03 09:44:50</td>\n",
              "      <td>2016-10-06 15:50:54</td>\n",
              "      <td>2016-10-23 14:02:13</td>\n",
              "      <td>2016-10-26 14:02:13</td>\n",
              "      <td>2016-10-27 00:00:00</td>\n",
              "      <td>478.0</td>\n",
              "    </tr>\n",
              "    <tr>\n",
              "      <th>109902</th>\n",
              "      <td>be5bc2f0da14d8071e2d45451ad119d9</td>\n",
              "      <td>1</td>\n",
              "      <td>fd7fd78fd3cbc1b0a6370a7909c0a629</td>\n",
              "      <td>f09b760d23495ac9a7e00d29b769007c</td>\n",
              "      <td>2016-10-21 16:33:46</td>\n",
              "      <td>21.90</td>\n",
              "      <td>17.19</td>\n",
              "      <td>15802</td>\n",
              "      <td>catanduva</td>\n",
              "      <td>SP</td>\n",
              "      <td>7ec40b22510fdbea1b08921dd39e63d8</td>\n",
              "      <td>delivered</td>\n",
              "      <td>2016-10-03 16:56:50</td>\n",
              "      <td>2016-10-06 16:03:44</td>\n",
              "      <td>2016-10-21 16:33:46</td>\n",
              "      <td>2016-10-27 18:19:38</td>\n",
              "      <td>2016-11-07 00:00:00</td>\n",
              "      <td>506.0</td>\n",
              "    </tr>\n",
              "    <tr>\n",
              "      <th>...</th>\n",
              "      <td>...</td>\n",
              "      <td>...</td>\n",
              "      <td>...</td>\n",
              "      <td>...</td>\n",
              "      <td>...</td>\n",
              "      <td>...</td>\n",
              "      <td>...</td>\n",
              "      <td>...</td>\n",
              "      <td>...</td>\n",
              "      <td>...</td>\n",
              "      <td>...</td>\n",
              "      <td>...</td>\n",
              "      <td>...</td>\n",
              "      <td>...</td>\n",
              "      <td>...</td>\n",
              "      <td>...</td>\n",
              "      <td>...</td>\n",
              "      <td>...</td>\n",
              "    </tr>\n",
              "    <tr>\n",
              "      <th>97561</th>\n",
              "      <td>0b223d92c27432930dfe407c6aea3041</td>\n",
              "      <td>1</td>\n",
              "      <td>2b4472df15512a2825ae86fd9ae79335</td>\n",
              "      <td>67bf6941ba2f1fa1d02c375766bc3e53</td>\n",
              "      <td>2018-08-31 14:30:19</td>\n",
              "      <td>209.00</td>\n",
              "      <td>46.48</td>\n",
              "      <td>82400</td>\n",
              "      <td>curitiba</td>\n",
              "      <td>PR</td>\n",
              "      <td>e60df9449653a95af4549bbfcb18a6eb</td>\n",
              "      <td>delivered</td>\n",
              "      <td>2018-08-29 14:18:23</td>\n",
              "      <td>2018-08-29 14:31:07</td>\n",
              "      <td>2018-08-29 15:29:00</td>\n",
              "      <td>2018-08-30 16:24:55</td>\n",
              "      <td>2018-09-04 00:00:00</td>\n",
              "      <td>25.0</td>\n",
              "    </tr>\n",
              "    <tr>\n",
              "      <th>97562</th>\n",
              "      <td>0b223d92c27432930dfe407c6aea3041</td>\n",
              "      <td>2</td>\n",
              "      <td>2b4472df15512a2825ae86fd9ae79335</td>\n",
              "      <td>67bf6941ba2f1fa1d02c375766bc3e53</td>\n",
              "      <td>2018-08-31 14:30:19</td>\n",
              "      <td>209.00</td>\n",
              "      <td>46.48</td>\n",
              "      <td>82400</td>\n",
              "      <td>curitiba</td>\n",
              "      <td>PR</td>\n",
              "      <td>e60df9449653a95af4549bbfcb18a6eb</td>\n",
              "      <td>delivered</td>\n",
              "      <td>2018-08-29 14:18:23</td>\n",
              "      <td>2018-08-29 14:31:07</td>\n",
              "      <td>2018-08-29 15:29:00</td>\n",
              "      <td>2018-08-30 16:24:55</td>\n",
              "      <td>2018-09-04 00:00:00</td>\n",
              "      <td>25.0</td>\n",
              "    </tr>\n",
              "    <tr>\n",
              "      <th>17994</th>\n",
              "      <td>168626408cb32af0ffaf76711caae1dc</td>\n",
              "      <td>1</td>\n",
              "      <td>bdcf6a834e8faa30dac3886c7a58e92e</td>\n",
              "      <td>2a84855fd20af891be03bc5924d2b453</td>\n",
              "      <td>2018-08-31 14:30:23</td>\n",
              "      <td>45.90</td>\n",
              "      <td>15.39</td>\n",
              "      <td>30111</td>\n",
              "      <td>belo horizonte</td>\n",
              "      <td>MG</td>\n",
              "      <td>6e353700bc7bcdf6ebc15d6de16d7002</td>\n",
              "      <td>delivered</td>\n",
              "      <td>2018-08-29 14:18:28</td>\n",
              "      <td>2018-08-29 14:30:23</td>\n",
              "      <td>2018-08-29 18:51:00</td>\n",
              "      <td>2018-08-30 16:52:31</td>\n",
              "      <td>2018-09-11 00:00:00</td>\n",
              "      <td>26.0</td>\n",
              "    </tr>\n",
              "    <tr>\n",
              "      <th>54233</th>\n",
              "      <td>03ef5dedbe7492bdae72eec50764c43f</td>\n",
              "      <td>1</td>\n",
              "      <td>c7f27c5bef2338541c772b5776403e6a</td>\n",
              "      <td>7d7866a99a8656a42c7ff6352a433410</td>\n",
              "      <td>2018-08-31 15:05:22</td>\n",
              "      <td>24.90</td>\n",
              "      <td>8.33</td>\n",
              "      <td>1320</td>\n",
              "      <td>sao paulo</td>\n",
              "      <td>SP</td>\n",
              "      <td>496630b6740bcca28fce9ba50d8a26ef</td>\n",
              "      <td>delivered</td>\n",
              "      <td>2018-08-29 14:52:00</td>\n",
              "      <td>2018-08-29 15:05:22</td>\n",
              "      <td>2018-08-29 20:01:00</td>\n",
              "      <td>2018-08-30 16:36:59</td>\n",
              "      <td>2018-09-03 00:00:00</td>\n",
              "      <td>25.0</td>\n",
              "    </tr>\n",
              "    <tr>\n",
              "      <th>19245</th>\n",
              "      <td>35a972d7f8436f405b56e36add1a7140</td>\n",
              "      <td>1</td>\n",
              "      <td>d04857e7b4b708ee8b8b9921163edba3</td>\n",
              "      <td>9f505651f4a6abe901a56cdc21508025</td>\n",
              "      <td>2018-08-31 15:10:26</td>\n",
              "      <td>84.99</td>\n",
              "      <td>8.76</td>\n",
              "      <td>4102</td>\n",
              "      <td>sao paulo</td>\n",
              "      <td>SP</td>\n",
              "      <td>898b7fee99c4e42170ab69ba59be0a8b</td>\n",
              "      <td>delivered</td>\n",
              "      <td>2018-08-29 15:00:37</td>\n",
              "      <td>2018-08-29 15:10:26</td>\n",
              "      <td>2018-08-29 16:57:00</td>\n",
              "      <td>2018-08-30 16:23:36</td>\n",
              "      <td>2018-09-05 00:00:00</td>\n",
              "      <td>25.0</td>\n",
              "    </tr>\n",
              "  </tbody>\n",
              "</table>\n",
              "<p>110089 rows × 18 columns</p>\n",
              "</div>"
            ],
            "text/plain": [
              "                                order_id  ...    Lead\n",
              "90324   bfbd0f9bdef84302105ad712db648a6c  ...  1315.0\n",
              "90323   bfbd0f9bdef84302105ad712db648a6c  ...  1315.0\n",
              "90325   bfbd0f9bdef84302105ad712db648a6c  ...  1315.0\n",
              "52882   3b697a20d9e427646d92567910af6d57  ...   478.0\n",
              "109902  be5bc2f0da14d8071e2d45451ad119d9  ...   506.0\n",
              "...                                  ...  ...     ...\n",
              "97561   0b223d92c27432930dfe407c6aea3041  ...    25.0\n",
              "97562   0b223d92c27432930dfe407c6aea3041  ...    25.0\n",
              "17994   168626408cb32af0ffaf76711caae1dc  ...    26.0\n",
              "54233   03ef5dedbe7492bdae72eec50764c43f  ...    25.0\n",
              "19245   35a972d7f8436f405b56e36add1a7140  ...    25.0\n",
              "\n",
              "[110089 rows x 18 columns]"
            ]
          },
          "metadata": {
            "tags": []
          },
          "execution_count": 15
        }
      ]
    },
    {
      "cell_type": "code",
      "metadata": {
        "colab": {
          "base_uri": "https://localhost:8080/",
          "height": 497
        },
        "id": "lH9hhaUK7F3B",
        "outputId": "4bfadf0a-25cb-49cf-f0c8-e893c9d8cf00"
      },
      "source": [
        "plt.figure(figsize=(15,8))\n",
        "sns.boxplot(order_items_seller.groupby('seller_id')['Lead'].mean().sort_values())\n",
        "plt.show()"
      ],
      "execution_count": null,
      "outputs": [
        {
          "output_type": "display_data",
          "data": {
            "image/png": "[encoded data removed]",
            "text/plain": [
              "<Figure size 1080x576 with 1 Axes>"
            ]
          },
          "metadata": {
            "tags": [],
            "needs_background": "light"
          }
        }
      ]
    },
    {
      "cell_type": "markdown",
      "metadata": {
        "id": "ARoYyACbdJm3"
      },
      "source": [
        "#### Feature Engineering \n",
        "- compute distance(in kms) and speed of delivery(in km/hr)"
      ]
    },
    {
      "cell_type": "code",
      "metadata": {
        "id": "xdXKbzQ1e0EI"
      },
      "source": [
        "# Distance in km - R is the radius of earth in km\n",
        "def find_distance(lat1,lon1,lat2,lon2):\n",
        "    R = 6373.0   \n",
        "    lat1 = np.radians(lat1)\n",
        "    lon1 = np.radians(lon1)\n",
        "    lat2 = np.radians(lat2)\n",
        "    lon2 = np.radians(lon2)\n",
        "    dlon = lon2 - lon1\n",
        "    dlat = lat2 - lat1\n",
        "    a = np.sin(dlat / 2)**2 + np.cos(lat1) * np.cos(lat2) * np.sin(dlon / 2)**2\n",
        "    c = 2 * np.arctan2(np.sqrt(a), np.sqrt(1 - a))\n",
        "    distance = R * c\n",
        "    return distance"
      ],
      "execution_count": null,
      "outputs": []
    },
    {
      "cell_type": "code",
      "metadata": {
        "colab": {
          "base_uri": "https://localhost:8080/",
          "height": 111
        },
        "id": "AN8XehHyfb3U",
        "outputId": "f3bb8c2c-fc08-4810-cd6b-766b17ba45a3"
      },
      "source": [
        "olist_geolocation.head(2)"
      ],
      "execution_count": null,
      "outputs": [
        {
          "output_type": "execute_result",
          "data": {
            "text/html": [
              "<div>\n",
              "<style scoped>\n",
              "    .dataframe tbody tr th:only-of-type {\n",
              "        vertical-align: middle;\n",
              "    }\n",
              "\n",
              "    .dataframe tbody tr th {\n",
              "        vertical-align: top;\n",
              "    }\n",
              "\n",
              "    .dataframe thead th {\n",
              "        text-align: right;\n",
              "    }\n",
              "</style>\n",
              "<table border=\"1\" class=\"dataframe\">\n",
              "  <thead>\n",
              "    <tr style=\"text-align: right;\">\n",
              "      <th></th>\n",
              "      <th>geolocation_zip_code_prefix</th>\n",
              "      <th>geolocation_lat</th>\n",
              "      <th>geolocation_lng</th>\n",
              "      <th>geolocation_city</th>\n",
              "      <th>geolocation_state</th>\n",
              "    </tr>\n",
              "  </thead>\n",
              "  <tbody>\n",
              "    <tr>\n",
              "      <th>0</th>\n",
              "      <td>1037</td>\n",
              "      <td>-23.545621</td>\n",
              "      <td>-46.639292</td>\n",
              "      <td>sao paulo</td>\n",
              "      <td>SP</td>\n",
              "    </tr>\n",
              "    <tr>\n",
              "      <th>1</th>\n",
              "      <td>1046</td>\n",
              "      <td>-23.546081</td>\n",
              "      <td>-46.644820</td>\n",
              "      <td>sao paulo</td>\n",
              "      <td>SP</td>\n",
              "    </tr>\n",
              "  </tbody>\n",
              "</table>\n",
              "</div>"
            ],
            "text/plain": [
              "   geolocation_zip_code_prefix  ...  geolocation_state\n",
              "0                         1037  ...                 SP\n",
              "1                         1046  ...                 SP\n",
              "\n",
              "[2 rows x 5 columns]"
            ]
          },
          "metadata": {
            "tags": []
          },
          "execution_count": 18
        }
      ]
    },
    {
      "cell_type": "code",
      "metadata": {
        "id": "s5ZdXPype_Qp"
      },
      "source": [
        "seller_zip = olist_geolocation.iloc[:,:3]\n",
        "seller_zip.columns = ['seller_zip_code_prefix', 'seller_lat', 'seller_lng']\n",
        "seller_zip = seller_zip.groupby('seller_zip_code_prefix').first()"
      ],
      "execution_count": null,
      "outputs": []
    },
    {
      "cell_type": "code",
      "metadata": {
        "colab": {
          "base_uri": "https://localhost:8080/",
          "height": 142
        },
        "id": "3McO7r0HfidV",
        "outputId": "8c93556c-5851-448b-8114-68aeaaac55bf"
      },
      "source": [
        "seller_zip.head(2)"
      ],
      "execution_count": null,
      "outputs": [
        {
          "output_type": "execute_result",
          "data": {
            "text/html": [
              "<div>\n",
              "<style scoped>\n",
              "    .dataframe tbody tr th:only-of-type {\n",
              "        vertical-align: middle;\n",
              "    }\n",
              "\n",
              "    .dataframe tbody tr th {\n",
              "        vertical-align: top;\n",
              "    }\n",
              "\n",
              "    .dataframe thead th {\n",
              "        text-align: right;\n",
              "    }\n",
              "</style>\n",
              "<table border=\"1\" class=\"dataframe\">\n",
              "  <thead>\n",
              "    <tr style=\"text-align: right;\">\n",
              "      <th></th>\n",
              "      <th>seller_lat</th>\n",
              "      <th>seller_lng</th>\n",
              "    </tr>\n",
              "    <tr>\n",
              "      <th>seller_zip_code_prefix</th>\n",
              "      <th></th>\n",
              "      <th></th>\n",
              "    </tr>\n",
              "  </thead>\n",
              "  <tbody>\n",
              "    <tr>\n",
              "      <th>1001</th>\n",
              "      <td>-23.549292</td>\n",
              "      <td>-46.633559</td>\n",
              "    </tr>\n",
              "    <tr>\n",
              "      <th>1002</th>\n",
              "      <td>-23.548318</td>\n",
              "      <td>-46.635421</td>\n",
              "    </tr>\n",
              "  </tbody>\n",
              "</table>\n",
              "</div>"
            ],
            "text/plain": [
              "                        seller_lat  seller_lng\n",
              "seller_zip_code_prefix                        \n",
              "1001                    -23.549292  -46.633559\n",
              "1002                    -23.548318  -46.635421"
            ]
          },
          "metadata": {
            "tags": []
          },
          "execution_count": 20
        }
      ]
    },
    {
      "cell_type": "code",
      "metadata": {
        "id": "ktygiiJkfkz0"
      },
      "source": [
        "customer_zip = olist_geolocation.iloc[:,:3]\n",
        "customer_zip.columns = ['customer_zip_code_prefix', 'customer_lat', 'customer_lng']\n",
        "customer_zip = customer_zip.groupby('customer_zip_code_prefix', ).first()"
      ],
      "execution_count": null,
      "outputs": []
    },
    {
      "cell_type": "code",
      "metadata": {
        "colab": {
          "base_uri": "https://localhost:8080/",
          "height": 142
        },
        "id": "qEkvK95OgVKq",
        "outputId": "eb24e0f2-4380-419b-945f-0841660a6986"
      },
      "source": [
        "customer_zip.head(2)"
      ],
      "execution_count": null,
      "outputs": [
        {
          "output_type": "execute_result",
          "data": {
            "text/html": [
              "<div>\n",
              "<style scoped>\n",
              "    .dataframe tbody tr th:only-of-type {\n",
              "        vertical-align: middle;\n",
              "    }\n",
              "\n",
              "    .dataframe tbody tr th {\n",
              "        vertical-align: top;\n",
              "    }\n",
              "\n",
              "    .dataframe thead th {\n",
              "        text-align: right;\n",
              "    }\n",
              "</style>\n",
              "<table border=\"1\" class=\"dataframe\">\n",
              "  <thead>\n",
              "    <tr style=\"text-align: right;\">\n",
              "      <th></th>\n",
              "      <th>customer_lat</th>\n",
              "      <th>customer_lng</th>\n",
              "    </tr>\n",
              "    <tr>\n",
              "      <th>customer_zip_code_prefix</th>\n",
              "      <th></th>\n",
              "      <th></th>\n",
              "    </tr>\n",
              "  </thead>\n",
              "  <tbody>\n",
              "    <tr>\n",
              "      <th>1001</th>\n",
              "      <td>-23.549292</td>\n",
              "      <td>-46.633559</td>\n",
              "    </tr>\n",
              "    <tr>\n",
              "      <th>1002</th>\n",
              "      <td>-23.548318</td>\n",
              "      <td>-46.635421</td>\n",
              "    </tr>\n",
              "  </tbody>\n",
              "</table>\n",
              "</div>"
            ],
            "text/plain": [
              "                          customer_lat  customer_lng\n",
              "customer_zip_code_prefix                            \n",
              "1001                        -23.549292    -46.633559\n",
              "1002                        -23.548318    -46.635421"
            ]
          },
          "metadata": {
            "tags": []
          },
          "execution_count": 22
        }
      ]
    },
    {
      "cell_type": "code",
      "metadata": {
        "id": "0IH7GPdDgfcO"
      },
      "source": [
        "# Merge seller zip \n",
        "order_item1 = pd.merge(order_items_seller, olist_customer, on='customer_id')\n",
        "order_item1_sel_loc = pd.merge(order_item1, seller_zip, on='seller_zip_code_prefix')\n",
        "# Merge customer xip\n",
        "order_item1_cus_loc = pd.merge(order_item1_sel_loc, customer_zip, on='customer_zip_code_prefix')"
      ],
      "execution_count": null,
      "outputs": []
    },
    {
      "cell_type": "code",
      "metadata": {
        "id": "k74EQY3wc1Xb"
      },
      "source": [
        "# Distance computation \n",
        "order_item1_cus_loc['distance'] = find_distance(order_item1_cus_loc['seller_lat'],order_item1_cus_loc['seller_lng'],order_item1_cus_loc['customer_lat'],order_item1_cus_loc['customer_lng'])\n",
        "# Computing speed = distance/time taken - km/hr\n",
        "order_item1_cus_loc['speed'] = order_item1_cus_loc['distance']/order_item1_cus_loc['Lead']"
      ],
      "execution_count": null,
      "outputs": []
    },
    {
      "cell_type": "markdown",
      "metadata": {
        "id": "U1b2ZXPcdfaE"
      },
      "source": [
        "#### Feature Engineer \n",
        "- day/week/date/month/hour of order, Preparation time(in days), Estimated shipping time(in days), volume of the product"
      ]
    },
    {
      "cell_type": "code",
      "metadata": {
        "id": "o2_dYRdShEVg"
      },
      "source": [
        "# Filtering only positive distances\n",
        "order_item1_cus_loc = order_item1_cus_loc[order_item1_cus_loc['distance'] > 0]\n",
        "# Merge products and category\n",
        "olist_item_cat = pd.merge(order_item1_cus_loc, olist_products, on='product_id')\n",
        "olist_item_cat_trans = pd.merge(olist_item_cat, olist_products_translation, on='product_category_name')"
      ],
      "execution_count": null,
      "outputs": []
    },
    {
      "cell_type": "code",
      "metadata": {
        "id": "mwy7ku5mroM_"
      },
      "source": [
        "olist_item_cat_trans['order_purchase_timestamp']=pd.to_datetime(olist_item_cat_trans['order_purchase_timestamp'])\n",
        "olist_item_cat_trans['order_purchase_day'] = olist_item_cat_trans['order_purchase_timestamp'].dt.day\n",
        "olist_item_cat_trans['order_purchase_month'] = olist_item_cat_trans['order_purchase_timestamp'].dt.month\n",
        "olist_item_cat_trans['order_purchase_week'] = olist_item_cat_trans['order_purchase_timestamp'].dt.week\n",
        "olist_item_cat_trans['order_purchase_hour'] = olist_item_cat_trans['order_purchase_timestamp'].dt.hour\n",
        "olist_item_cat_trans['Preparation_time'] = ((pd.to_datetime(olist_item_cat_trans['order_delivered_carrier_date']).dt.date) - (olist_item_cat_trans['order_purchase_timestamp']).dt.date).dt.days\n",
        "olist_item_cat_trans['Est_Shipping_time'] = ((pd.to_datetime(olist_item_cat_trans['order_estimated_delivery_date']).dt.date) - (pd.to_datetime(olist_item_cat_trans['order_delivered_carrier_date']).dt.date)).dt.days\n",
        "olist_item_cat_trans['volume'] = olist_item_cat_trans['product_length_cm'] * olist_item_cat_trans['product_height_cm'] * olist_item_cat_trans['product_width_cm']\n",
        "olist_item_cat_trans['tot_price'] = olist_item_cat_trans['price'] + olist_item_cat_trans['freight_value']"
      ],
      "execution_count": null,
      "outputs": []
    },
    {
      "cell_type": "code",
      "metadata": {
        "id": "U3KoKBkB4Wvr"
      },
      "source": [
        "olist_item_cat_trans = olist_item_cat_trans.sort_values(['order_approved_at','order_id'])"
      ],
      "execution_count": null,
      "outputs": []
    },
    {
      "cell_type": "markdown",
      "metadata": {
        "id": "FvycMrKbQV6y"
      },
      "source": [
        "#### Which Product and product category are delivered soon?"
      ]
    },
    {
      "cell_type": "code",
      "metadata": {
        "colab": {
          "base_uri": "https://localhost:8080/"
        },
        "id": "kgGKg44vhdsw",
        "outputId": "564d2087-c5b7-47d4-a2b0-c0244888b775"
      },
      "source": [
        "olist_item_cat_trans.groupby(['product_category_name_english','product_id'])['speed'].mean().sort_values(ascending=False)"
      ],
      "execution_count": null,
      "outputs": [
        {
          "output_type": "execute_result",
          "data": {
            "text/plain": [
              "product_category_name_english            product_id                      \n",
              "bed_bath_table                           5dfc5bdca7ee27155face9d4e89201ae    300.442170\n",
              "musical_instruments                      fd7d2e006bf144655148da8077bd8d4f    137.280633\n",
              "luggage_accessories                      db56f6d2b04c89eae4daba188842fd7b    112.743138\n",
              "kitchen_dining_laundry_garden_furniture  7498e2ed667dd1d3fd92e0d4c33b7944     90.302243\n",
              "housewares                               1c4e2aab2f3631a70816d1765ced8ea8     85.093142\n",
              "                                                                                ...    \n",
              "air_conditioning                         5691a536d459e5cb326b7bedce928067      0.005489\n",
              "housewares                               5e8b2f0b5ddd10cbaa498bc106065c2c      0.004367\n",
              "food_drink                               639a641dfdddb9367d030768148076b1      0.003688\n",
              "garden_tools                             2bee6706184be07ea6ee4221c1660e85      0.003316\n",
              "toys                                     c74e157255c4861775b6885cc14a1ced      0.001782\n",
              "Name: speed, Length: 31491, dtype: float64"
            ]
          },
          "metadata": {
            "tags": []
          },
          "execution_count": 28
        }
      ]
    },
    {
      "cell_type": "markdown",
      "metadata": {
        "id": "jZzk9p-2Rdmb"
      },
      "source": [
        "#### Which Seller and product category are delivered soon?"
      ]
    },
    {
      "cell_type": "code",
      "metadata": {
        "colab": {
          "base_uri": "https://localhost:8080/"
        },
        "id": "FkK7uYuTiDW2",
        "outputId": "4613f585-4f64-4216-ab16-72322ac055c4"
      },
      "source": [
        "olist_item_cat_trans.groupby(['seller_id','product_category_name_english'])['speed'].mean().sort_values(ascending=False)"
      ],
      "execution_count": null,
      "outputs": [
        {
          "output_type": "execute_result",
          "data": {
            "text/plain": [
              "seller_id                         product_category_name_english          \n",
              "f45122a9ab94eb4f3f8953578bc0c560  musical_instruments                        47.842645\n",
              "febab0275244b9a49a623f0bd613ca2f  kitchen_dining_laundry_garden_furniture    45.355385\n",
              "a420f60ff1aa9acc80d0e42959f2b313  toys                                       30.835482\n",
              "066a6914e1ebf3ea95a216c73a986b91  market_place                               26.158341\n",
              "44717f64ec2a457979cf83c429077666  construction_tools_lights                  21.024679\n",
              "                                                                               ...    \n",
              "0b09101900100c0e9d312861fad5a1b9  furniture_decor                             0.010229\n",
              "baf15155e37ef5492731459bdc05be8a  bed_bath_table                              0.005517\n",
              "c7dcd301ecfe5ab7f778ac172cf74be7  air_conditioning                            0.005489\n",
              "77128dec4bec4878c37ab7d6169d6f26  food_drink                                  0.003688\n",
              "2a1348e9addc1af5aaa619b1a3679d6b  garden_tools                                0.003316\n",
              "Name: speed, Length: 6128, dtype: float64"
            ]
          },
          "metadata": {
            "tags": []
          },
          "execution_count": 29
        }
      ]
    },
    {
      "cell_type": "markdown",
      "metadata": {
        "id": "X-HEOs99Rh_p"
      },
      "source": [
        "#### Which Seller on an average delivers soon?"
      ]
    },
    {
      "cell_type": "code",
      "metadata": {
        "colab": {
          "base_uri": "https://localhost:8080/"
        },
        "id": "sgsvJKl5RovE",
        "outputId": "20a59503-a979-4bd7-81a6-abb8e7d2cd10"
      },
      "source": [
        "olist_item_cat_trans.groupby(['seller_id'])['speed'].mean().sort_values(ascending=False)"
      ],
      "execution_count": null,
      "outputs": [
        {
          "output_type": "execute_result",
          "data": {
            "text/plain": [
              "seller_id\n",
              "44717f64ec2a457979cf83c429077666    21.024679\n",
              "544863df86ed3b78a04e0820d41430ee    13.877921\n",
              "fa5fdc4e4bb6bd1009ad0e4ac4096562    13.782926\n",
              "28872dc528e978a639754bc8c2ce5a4c    13.076837\n",
              "57a834594e1e9e9219603bfec184eadc    12.496563\n",
              "                                      ...    \n",
              "9e94fa26a70ede4d26226e918e8706a2     0.023922\n",
              "3442033154be05bac582e173ef54fd12     0.021973\n",
              "0b09101900100c0e9d312861fad5a1b9     0.010229\n",
              "baf15155e37ef5492731459bdc05be8a     0.005517\n",
              "77128dec4bec4878c37ab7d6169d6f26     0.003688\n",
              "Name: speed, Length: 2905, dtype: float64"
            ]
          },
          "metadata": {
            "tags": []
          },
          "execution_count": 30
        }
      ]
    },
    {
      "cell_type": "markdown",
      "metadata": {
        "id": "dlA_eimQR1Lz"
      },
      "source": [
        "#### Which seller takes more preparation time to ship?\n",
        "- Preparation time : The number of days between shipping date and order purchase date."
      ]
    },
    {
      "cell_type": "code",
      "metadata": {
        "colab": {
          "base_uri": "https://localhost:8080/"
        },
        "id": "1ttfwFQXR6F-",
        "outputId": "cc8b9b16-93fc-4087-a59a-c26481a0160c"
      },
      "source": [
        "olist_item_cat_trans.groupby(['seller_id'])['Preparation_time'].mean().sort_values(ascending=False)"
      ],
      "execution_count": null,
      "outputs": [
        {
          "output_type": "execute_result",
          "data": {
            "text/plain": [
              "seller_id\n",
              "8e670472e453ba34a379331513d6aab1    61.000\n",
              "8d92f3ea807b89465643c219455e7369    55.000\n",
              "586a871d4f1221763fddb6ceefdeb95e    50.000\n",
              "87f3e35268860433e13d577825aada95    47.000\n",
              "0bb27263628258b8111a0262769fa9db    41.000\n",
              "                                     ...  \n",
              "c0f3eea2e14555b6faeea3dd58c1b1c3     0.000\n",
              "ebd1417732defaf66c50b5a800eb293e     0.000\n",
              "d4828feed4cda2cd9d6b37899a95a71e     0.000\n",
              "164a5a8794e6d42e14f55e447b12a3bc     0.000\n",
              "89de2d6f23e9746ff309705b23581faa   -17.125\n",
              "Name: Preparation_time, Length: 2905, dtype: float64"
            ]
          },
          "metadata": {
            "tags": []
          },
          "execution_count": 31
        }
      ]
    },
    {
      "cell_type": "code",
      "metadata": {
        "colab": {
          "base_uri": "https://localhost:8080/",
          "height": 490
        },
        "id": "qHMLV1ppU789",
        "outputId": "e5581374-3f97-4a76-88d2-053c22816572"
      },
      "source": [
        "# Should not have negative values - data issue as carrier date is larger than order purchase date.\n",
        "olist_item_cat_trans = olist_item_cat_trans[olist_item_cat_trans['Preparation_time'] > 0]\n",
        "olist_item_cat_trans"
      ],
      "execution_count": null,
      "outputs": [
        {
          "output_type": "execute_result",
          "data": {
            "text/html": [
              "<div>\n",
              "<style scoped>\n",
              "    .dataframe tbody tr th:only-of-type {\n",
              "        vertical-align: middle;\n",
              "    }\n",
              "\n",
              "    .dataframe tbody tr th {\n",
              "        vertical-align: top;\n",
              "    }\n",
              "\n",
              "    .dataframe thead th {\n",
              "        text-align: right;\n",
              "    }\n",
              "</style>\n",
              "<table border=\"1\" class=\"dataframe\">\n",
              "  <thead>\n",
              "    <tr style=\"text-align: right;\">\n",
              "      <th></th>\n",
              "      <th>order_id</th>\n",
              "      <th>order_item_id</th>\n",
              "      <th>product_id</th>\n",
              "      <th>seller_id</th>\n",
              "      <th>shipping_limit_date</th>\n",
              "      <th>price</th>\n",
              "      <th>freight_value</th>\n",
              "      <th>seller_zip_code_prefix</th>\n",
              "      <th>seller_city</th>\n",
              "      <th>seller_state</th>\n",
              "      <th>customer_id</th>\n",
              "      <th>order_status</th>\n",
              "      <th>order_purchase_timestamp</th>\n",
              "      <th>order_approved_at</th>\n",
              "      <th>order_delivered_carrier_date</th>\n",
              "      <th>order_delivered_customer_date</th>\n",
              "      <th>order_estimated_delivery_date</th>\n",
              "      <th>Lead</th>\n",
              "      <th>customer_unique_id</th>\n",
              "      <th>customer_zip_code_prefix</th>\n",
              "      <th>customer_city</th>\n",
              "      <th>customer_state</th>\n",
              "      <th>seller_lat</th>\n",
              "      <th>seller_lng</th>\n",
              "      <th>customer_lat</th>\n",
              "      <th>customer_lng</th>\n",
              "      <th>distance</th>\n",
              "      <th>speed</th>\n",
              "      <th>product_category_name</th>\n",
              "      <th>product_name_lenght</th>\n",
              "      <th>product_description_lenght</th>\n",
              "      <th>product_photos_qty</th>\n",
              "      <th>product_weight_g</th>\n",
              "      <th>product_length_cm</th>\n",
              "      <th>product_height_cm</th>\n",
              "      <th>product_width_cm</th>\n",
              "      <th>product_category_name_english</th>\n",
              "      <th>order_purchase_day</th>\n",
              "      <th>order_purchase_month</th>\n",
              "      <th>order_purchase_week</th>\n",
              "      <th>order_purchase_hour</th>\n",
              "      <th>Preparation_time</th>\n",
              "      <th>Est_Shipping_time</th>\n",
              "      <th>volume</th>\n",
              "      <th>tot_price</th>\n",
              "    </tr>\n",
              "  </thead>\n",
              "  <tbody>\n",
              "    <tr>\n",
              "      <th>10218</th>\n",
              "      <td>bfbd0f9bdef84302105ad712db648a6c</td>\n",
              "      <td>1</td>\n",
              "      <td>5a6b04657a4c5ee34285d1e4619a96b4</td>\n",
              "      <td>ecccfa2bb93b34a3bf033cc5d1dcdc69</td>\n",
              "      <td>2016-09-19 23:11:33</td>\n",
              "      <td>44.99</td>\n",
              "      <td>2.83</td>\n",
              "      <td>81810</td>\n",
              "      <td>curitiba</td>\n",
              "      <td>PR</td>\n",
              "      <td>86dc2ffce2dfff336de2f386a786e574</td>\n",
              "      <td>delivered</td>\n",
              "      <td>2016-09-15 12:16:38</td>\n",
              "      <td>2016-09-15 12:16:38</td>\n",
              "      <td>2016-11-07 17:11:53</td>\n",
              "      <td>2016-11-09 07:47:38</td>\n",
              "      <td>2016-10-04 00:00:00</td>\n",
              "      <td>1315.0</td>\n",
              "      <td>830d5b7aaa3b6f1e9ad63703bec97d23</td>\n",
              "      <td>14600</td>\n",
              "      <td>sao joaquim da barra</td>\n",
              "      <td>SP</td>\n",
              "      <td>-25.507144</td>\n",
              "      <td>-49.272075</td>\n",
              "      <td>-20.581177</td>\n",
              "      <td>-47.858931</td>\n",
              "      <td>566.666761</td>\n",
              "      <td>0.430925</td>\n",
              "      <td>beleza_saude</td>\n",
              "      <td>34.0</td>\n",
              "      <td>1036.0</td>\n",
              "      <td>1.0</td>\n",
              "      <td>1000.0</td>\n",
              "      <td>16.0</td>\n",
              "      <td>16.0</td>\n",
              "      <td>16.0</td>\n",
              "      <td>health_beauty</td>\n",
              "      <td>15</td>\n",
              "      <td>9</td>\n",
              "      <td>37</td>\n",
              "      <td>12</td>\n",
              "      <td>53</td>\n",
              "      <td>-34</td>\n",
              "      <td>4096.0</td>\n",
              "      <td>47.82</td>\n",
              "    </tr>\n",
              "    <tr>\n",
              "      <th>10219</th>\n",
              "      <td>bfbd0f9bdef84302105ad712db648a6c</td>\n",
              "      <td>2</td>\n",
              "      <td>5a6b04657a4c5ee34285d1e4619a96b4</td>\n",
              "      <td>ecccfa2bb93b34a3bf033cc5d1dcdc69</td>\n",
              "      <td>2016-09-19 23:11:33</td>\n",
              "      <td>44.99</td>\n",
              "      <td>2.83</td>\n",
              "      <td>81810</td>\n",
              "      <td>curitiba</td>\n",
              "      <td>PR</td>\n",
              "      <td>86dc2ffce2dfff336de2f386a786e574</td>\n",
              "      <td>delivered</td>\n",
              "      <td>2016-09-15 12:16:38</td>\n",
              "      <td>2016-09-15 12:16:38</td>\n",
              "      <td>2016-11-07 17:11:53</td>\n",
              "      <td>2016-11-09 07:47:38</td>\n",
              "      <td>2016-10-04 00:00:00</td>\n",
              "      <td>1315.0</td>\n",
              "      <td>830d5b7aaa3b6f1e9ad63703bec97d23</td>\n",
              "      <td>14600</td>\n",
              "      <td>sao joaquim da barra</td>\n",
              "      <td>SP</td>\n",
              "      <td>-25.507144</td>\n",
              "      <td>-49.272075</td>\n",
              "      <td>-20.581177</td>\n",
              "      <td>-47.858931</td>\n",
              "      <td>566.666761</td>\n",
              "      <td>0.430925</td>\n",
              "      <td>beleza_saude</td>\n",
              "      <td>34.0</td>\n",
              "      <td>1036.0</td>\n",
              "      <td>1.0</td>\n",
              "      <td>1000.0</td>\n",
              "      <td>16.0</td>\n",
              "      <td>16.0</td>\n",
              "      <td>16.0</td>\n",
              "      <td>health_beauty</td>\n",
              "      <td>15</td>\n",
              "      <td>9</td>\n",
              "      <td>37</td>\n",
              "      <td>12</td>\n",
              "      <td>53</td>\n",
              "      <td>-34</td>\n",
              "      <td>4096.0</td>\n",
              "      <td>47.82</td>\n",
              "    </tr>\n",
              "    <tr>\n",
              "      <th>10220</th>\n",
              "      <td>bfbd0f9bdef84302105ad712db648a6c</td>\n",
              "      <td>3</td>\n",
              "      <td>5a6b04657a4c5ee34285d1e4619a96b4</td>\n",
              "      <td>ecccfa2bb93b34a3bf033cc5d1dcdc69</td>\n",
              "      <td>2016-09-19 23:11:33</td>\n",
              "      <td>44.99</td>\n",
              "      <td>2.83</td>\n",
              "      <td>81810</td>\n",
              "      <td>curitiba</td>\n",
              "      <td>PR</td>\n",
              "      <td>86dc2ffce2dfff336de2f386a786e574</td>\n",
              "      <td>delivered</td>\n",
              "      <td>2016-09-15 12:16:38</td>\n",
              "      <td>2016-09-15 12:16:38</td>\n",
              "      <td>2016-11-07 17:11:53</td>\n",
              "      <td>2016-11-09 07:47:38</td>\n",
              "      <td>2016-10-04 00:00:00</td>\n",
              "      <td>1315.0</td>\n",
              "      <td>830d5b7aaa3b6f1e9ad63703bec97d23</td>\n",
              "      <td>14600</td>\n",
              "      <td>sao joaquim da barra</td>\n",
              "      <td>SP</td>\n",
              "      <td>-25.507144</td>\n",
              "      <td>-49.272075</td>\n",
              "      <td>-20.581177</td>\n",
              "      <td>-47.858931</td>\n",
              "      <td>566.666761</td>\n",
              "      <td>0.430925</td>\n",
              "      <td>beleza_saude</td>\n",
              "      <td>34.0</td>\n",
              "      <td>1036.0</td>\n",
              "      <td>1.0</td>\n",
              "      <td>1000.0</td>\n",
              "      <td>16.0</td>\n",
              "      <td>16.0</td>\n",
              "      <td>16.0</td>\n",
              "      <td>health_beauty</td>\n",
              "      <td>15</td>\n",
              "      <td>9</td>\n",
              "      <td>37</td>\n",
              "      <td>12</td>\n",
              "      <td>53</td>\n",
              "      <td>-34</td>\n",
              "      <td>4096.0</td>\n",
              "      <td>47.82</td>\n",
              "    </tr>\n",
              "    <tr>\n",
              "      <th>100302</th>\n",
              "      <td>1ff217aa612f6cd7c4255c9bfe931c8b</td>\n",
              "      <td>1</td>\n",
              "      <td>33430c5c1027d812b5c62f778e5ee7f7</td>\n",
              "      <td>4b1eaadf791bdbbad8c4a35b65236d52</td>\n",
              "      <td>2016-10-21 16:33:45</td>\n",
              "      <td>32.49</td>\n",
              "      <td>11.74</td>\n",
              "      <td>14092</td>\n",
              "      <td>ribeirao preto</td>\n",
              "      <td>SP</td>\n",
              "      <td>b3a9bf200375f53cc5c6991919c356fd</td>\n",
              "      <td>delivered</td>\n",
              "      <td>2016-10-04 09:16:33</td>\n",
              "      <td>2016-10-04 09:43:32</td>\n",
              "      <td>2016-10-21 16:33:45</td>\n",
              "      <td>2016-10-24 16:33:45</td>\n",
              "      <td>2016-11-24 00:00:00</td>\n",
              "      <td>486.0</td>\n",
              "      <td>14359ea0c7a105749c0a56478825b015</td>\n",
              "      <td>4849</td>\n",
              "      <td>sao paulo</td>\n",
              "      <td>SP</td>\n",
              "      <td>-21.174925</td>\n",
              "      <td>-47.768616</td>\n",
              "      <td>-23.740974</td>\n",
              "      <td>-46.670188</td>\n",
              "      <td>306.938260</td>\n",
              "      <td>0.631560</td>\n",
              "      <td>consoles_games</td>\n",
              "      <td>41.0</td>\n",
              "      <td>309.0</td>\n",
              "      <td>1.0</td>\n",
              "      <td>200.0</td>\n",
              "      <td>21.0</td>\n",
              "      <td>21.0</td>\n",
              "      <td>21.0</td>\n",
              "      <td>consoles_games</td>\n",
              "      <td>4</td>\n",
              "      <td>10</td>\n",
              "      <td>40</td>\n",
              "      <td>9</td>\n",
              "      <td>17</td>\n",
              "      <td>34</td>\n",
              "      <td>9261.0</td>\n",
              "      <td>44.23</td>\n",
              "    </tr>\n",
              "    <tr>\n",
              "      <th>98376</th>\n",
              "      <td>cd3b8574c82b42fc8129f6d502690c3e</td>\n",
              "      <td>1</td>\n",
              "      <td>e2a1d45a73dc7f5a7f9236b043431b89</td>\n",
              "      <td>b499c00f28f4b7069ff6550af8c1348a</td>\n",
              "      <td>2016-10-08 10:34:01</td>\n",
              "      <td>29.99</td>\n",
              "      <td>10.96</td>\n",
              "      <td>13481</td>\n",
              "      <td>limeira</td>\n",
              "      <td>SP</td>\n",
              "      <td>7812fcebfc5e8065d31e1bb5f0017dae</td>\n",
              "      <td>delivered</td>\n",
              "      <td>2016-10-03 22:31:31</td>\n",
              "      <td>2016-10-04 10:19:23</td>\n",
              "      <td>2016-10-08 10:34:01</td>\n",
              "      <td>2016-10-14 16:08:00</td>\n",
              "      <td>2016-11-23 00:00:00</td>\n",
              "      <td>245.0</td>\n",
              "      <td>87776adb449c551e74c13fc34f036105</td>\n",
              "      <td>12030</td>\n",
              "      <td>taubate</td>\n",
              "      <td>SP</td>\n",
              "      <td>-22.599254</td>\n",
              "      <td>-47.379810</td>\n",
              "      <td>-23.036952</td>\n",
              "      <td>-45.569976</td>\n",
              "      <td>191.832099</td>\n",
              "      <td>0.782988</td>\n",
              "      <td>fashion_calcados</td>\n",
              "      <td>56.0</td>\n",
              "      <td>459.0</td>\n",
              "      <td>2.0</td>\n",
              "      <td>9000.0</td>\n",
              "      <td>16.0</td>\n",
              "      <td>5.0</td>\n",
              "      <td>33.0</td>\n",
              "      <td>fashion_shoes</td>\n",
              "      <td>3</td>\n",
              "      <td>10</td>\n",
              "      <td>40</td>\n",
              "      <td>22</td>\n",
              "      <td>5</td>\n",
              "      <td>46</td>\n",
              "      <td>2640.0</td>\n",
              "      <td>40.95</td>\n",
              "    </tr>\n",
              "    <tr>\n",
              "      <th>...</th>\n",
              "      <td>...</td>\n",
              "      <td>...</td>\n",
              "      <td>...</td>\n",
              "      <td>...</td>\n",
              "      <td>...</td>\n",
              "      <td>...</td>\n",
              "      <td>...</td>\n",
              "      <td>...</td>\n",
              "      <td>...</td>\n",
              "      <td>...</td>\n",
              "      <td>...</td>\n",
              "      <td>...</td>\n",
              "      <td>...</td>\n",
              "      <td>...</td>\n",
              "      <td>...</td>\n",
              "      <td>...</td>\n",
              "      <td>...</td>\n",
              "      <td>...</td>\n",
              "      <td>...</td>\n",
              "      <td>...</td>\n",
              "      <td>...</td>\n",
              "      <td>...</td>\n",
              "      <td>...</td>\n",
              "      <td>...</td>\n",
              "      <td>...</td>\n",
              "      <td>...</td>\n",
              "      <td>...</td>\n",
              "      <td>...</td>\n",
              "      <td>...</td>\n",
              "      <td>...</td>\n",
              "      <td>...</td>\n",
              "      <td>...</td>\n",
              "      <td>...</td>\n",
              "      <td>...</td>\n",
              "      <td>...</td>\n",
              "      <td>...</td>\n",
              "      <td>...</td>\n",
              "      <td>...</td>\n",
              "      <td>...</td>\n",
              "      <td>...</td>\n",
              "      <td>...</td>\n",
              "      <td>...</td>\n",
              "      <td>...</td>\n",
              "      <td>...</td>\n",
              "      <td>...</td>\n",
              "    </tr>\n",
              "    <tr>\n",
              "      <th>27304</th>\n",
              "      <td>d4fae577806d683110e00e18a5e181be</td>\n",
              "      <td>2</td>\n",
              "      <td>59536eeb13a52ef81966f81b91fb481e</td>\n",
              "      <td>98dac6635aee4995d501a3972e047414</td>\n",
              "      <td>2018-09-03 03:15:36</td>\n",
              "      <td>17.90</td>\n",
              "      <td>10.72</td>\n",
              "      <td>2030</td>\n",
              "      <td>sao paulo</td>\n",
              "      <td>SP</td>\n",
              "      <td>49a6ae8a95c6a78d90945b983ab1ecfc</td>\n",
              "      <td>delivered</td>\n",
              "      <td>2018-08-28 19:32:05</td>\n",
              "      <td>2018-08-29 03:15:36</td>\n",
              "      <td>2018-08-29 13:00:00</td>\n",
              "      <td>2018-08-30 18:32:36</td>\n",
              "      <td>2018-09-12 00:00:00</td>\n",
              "      <td>39.0</td>\n",
              "      <td>fb7e29c65321441231990afc201c1b14</td>\n",
              "      <td>4107</td>\n",
              "      <td>sao paulo</td>\n",
              "      <td>SP</td>\n",
              "      <td>-23.504770</td>\n",
              "      <td>-46.624703</td>\n",
              "      <td>-23.579518</td>\n",
              "      <td>-46.634677</td>\n",
              "      <td>8.376236</td>\n",
              "      <td>0.214775</td>\n",
              "      <td>utilidades_domesticas</td>\n",
              "      <td>48.0</td>\n",
              "      <td>448.0</td>\n",
              "      <td>1.0</td>\n",
              "      <td>550.0</td>\n",
              "      <td>16.0</td>\n",
              "      <td>25.0</td>\n",
              "      <td>12.0</td>\n",
              "      <td>housewares</td>\n",
              "      <td>28</td>\n",
              "      <td>8</td>\n",
              "      <td>35</td>\n",
              "      <td>19</td>\n",
              "      <td>1</td>\n",
              "      <td>14</td>\n",
              "      <td>4800.0</td>\n",
              "      <td>28.62</td>\n",
              "    </tr>\n",
              "    <tr>\n",
              "      <th>27305</th>\n",
              "      <td>d4fae577806d683110e00e18a5e181be</td>\n",
              "      <td>3</td>\n",
              "      <td>59536eeb13a52ef81966f81b91fb481e</td>\n",
              "      <td>98dac6635aee4995d501a3972e047414</td>\n",
              "      <td>2018-09-03 03:15:36</td>\n",
              "      <td>17.90</td>\n",
              "      <td>10.72</td>\n",
              "      <td>2030</td>\n",
              "      <td>sao paulo</td>\n",
              "      <td>SP</td>\n",
              "      <td>49a6ae8a95c6a78d90945b983ab1ecfc</td>\n",
              "      <td>delivered</td>\n",
              "      <td>2018-08-28 19:32:05</td>\n",
              "      <td>2018-08-29 03:15:36</td>\n",
              "      <td>2018-08-29 13:00:00</td>\n",
              "      <td>2018-08-30 18:32:36</td>\n",
              "      <td>2018-09-12 00:00:00</td>\n",
              "      <td>39.0</td>\n",
              "      <td>fb7e29c65321441231990afc201c1b14</td>\n",
              "      <td>4107</td>\n",
              "      <td>sao paulo</td>\n",
              "      <td>SP</td>\n",
              "      <td>-23.504770</td>\n",
              "      <td>-46.624703</td>\n",
              "      <td>-23.579518</td>\n",
              "      <td>-46.634677</td>\n",
              "      <td>8.376236</td>\n",
              "      <td>0.214775</td>\n",
              "      <td>utilidades_domesticas</td>\n",
              "      <td>48.0</td>\n",
              "      <td>448.0</td>\n",
              "      <td>1.0</td>\n",
              "      <td>550.0</td>\n",
              "      <td>16.0</td>\n",
              "      <td>25.0</td>\n",
              "      <td>12.0</td>\n",
              "      <td>housewares</td>\n",
              "      <td>28</td>\n",
              "      <td>8</td>\n",
              "      <td>35</td>\n",
              "      <td>19</td>\n",
              "      <td>1</td>\n",
              "      <td>14</td>\n",
              "      <td>4800.0</td>\n",
              "      <td>28.62</td>\n",
              "    </tr>\n",
              "    <tr>\n",
              "      <th>30473</th>\n",
              "      <td>d4fae577806d683110e00e18a5e181be</td>\n",
              "      <td>4</td>\n",
              "      <td>7001d71d1ad858e07e5a341649412e76</td>\n",
              "      <td>f0b47fbbc6dee9aafe415a6e33051b3f</td>\n",
              "      <td>2018-09-12 03:15:36</td>\n",
              "      <td>49.99</td>\n",
              "      <td>3.57</td>\n",
              "      <td>9360</td>\n",
              "      <td>maua</td>\n",
              "      <td>SP</td>\n",
              "      <td>49a6ae8a95c6a78d90945b983ab1ecfc</td>\n",
              "      <td>delivered</td>\n",
              "      <td>2018-08-28 19:32:05</td>\n",
              "      <td>2018-08-29 03:15:36</td>\n",
              "      <td>2018-08-29 13:00:00</td>\n",
              "      <td>2018-08-30 18:32:36</td>\n",
              "      <td>2018-09-12 00:00:00</td>\n",
              "      <td>39.0</td>\n",
              "      <td>fb7e29c65321441231990afc201c1b14</td>\n",
              "      <td>4107</td>\n",
              "      <td>sao paulo</td>\n",
              "      <td>SP</td>\n",
              "      <td>-23.678799</td>\n",
              "      <td>-46.459478</td>\n",
              "      <td>-23.579518</td>\n",
              "      <td>-46.634677</td>\n",
              "      <td>20.992734</td>\n",
              "      <td>0.538275</td>\n",
              "      <td>utilidades_domesticas</td>\n",
              "      <td>52.0</td>\n",
              "      <td>933.0</td>\n",
              "      <td>2.0</td>\n",
              "      <td>550.0</td>\n",
              "      <td>30.0</td>\n",
              "      <td>16.0</td>\n",
              "      <td>25.0</td>\n",
              "      <td>housewares</td>\n",
              "      <td>28</td>\n",
              "      <td>8</td>\n",
              "      <td>35</td>\n",
              "      <td>19</td>\n",
              "      <td>1</td>\n",
              "      <td>14</td>\n",
              "      <td>12000.0</td>\n",
              "      <td>53.56</td>\n",
              "    </tr>\n",
              "    <tr>\n",
              "      <th>52885</th>\n",
              "      <td>9344079d5fbb7dd79af908b7eb667db7</td>\n",
              "      <td>1</td>\n",
              "      <td>3adde396ccd202b8fe21807c2b624f4c</td>\n",
              "      <td>0241d4d5d36f10f80c644447315af0bd</td>\n",
              "      <td>2018-08-31 03:15:39</td>\n",
              "      <td>169.00</td>\n",
              "      <td>19.13</td>\n",
              "      <td>80330</td>\n",
              "      <td>curitiba</td>\n",
              "      <td>PR</td>\n",
              "      <td>be169d57b327a59f2db49cffdc6caf13</td>\n",
              "      <td>delivered</td>\n",
              "      <td>2018-08-28 15:11:49</td>\n",
              "      <td>2018-08-29 03:15:39</td>\n",
              "      <td>2018-08-29 09:47:00</td>\n",
              "      <td>2018-08-30 17:28:28</td>\n",
              "      <td>2018-09-03 00:00:00</td>\n",
              "      <td>38.0</td>\n",
              "      <td>23e6a9d387ba03e2099233222d7635cf</td>\n",
              "      <td>81312</td>\n",
              "      <td>curitiba</td>\n",
              "      <td>PR</td>\n",
              "      <td>-25.472735</td>\n",
              "      <td>-49.305638</td>\n",
              "      <td>-25.503743</td>\n",
              "      <td>-49.309283</td>\n",
              "      <td>3.468340</td>\n",
              "      <td>0.091272</td>\n",
              "      <td>moveis_decoracao</td>\n",
              "      <td>58.0</td>\n",
              "      <td>271.0</td>\n",
              "      <td>1.0</td>\n",
              "      <td>8400.0</td>\n",
              "      <td>50.0</td>\n",
              "      <td>20.0</td>\n",
              "      <td>36.0</td>\n",
              "      <td>furniture_decor</td>\n",
              "      <td>28</td>\n",
              "      <td>8</td>\n",
              "      <td>35</td>\n",
              "      <td>15</td>\n",
              "      <td>1</td>\n",
              "      <td>5</td>\n",
              "      <td>36000.0</td>\n",
              "      <td>188.13</td>\n",
              "    </tr>\n",
              "    <tr>\n",
              "      <th>46445</th>\n",
              "      <td>3064071cf67a2cc381cd53b13055eac5</td>\n",
              "      <td>1</td>\n",
              "      <td>15de022edf1005363381e66bed514528</td>\n",
              "      <td>537eb890efff034a88679788b647c564</td>\n",
              "      <td>2018-08-31 08:30:21</td>\n",
              "      <td>19.90</td>\n",
              "      <td>7.56</td>\n",
              "      <td>20270</td>\n",
              "      <td>rio de janeiro</td>\n",
              "      <td>RJ</td>\n",
              "      <td>931bfab7036f6763dc1bdf6e2696e08b</td>\n",
              "      <td>delivered</td>\n",
              "      <td>2018-08-28 21:56:12</td>\n",
              "      <td>2018-08-29 08:30:21</td>\n",
              "      <td>2018-08-29 13:53:00</td>\n",
              "      <td>2018-08-30 19:04:08</td>\n",
              "      <td>2018-09-03 00:00:00</td>\n",
              "      <td>34.0</td>\n",
              "      <td>1041688b50cfd8ef6df6086a1746a30c</td>\n",
              "      <td>25720</td>\n",
              "      <td>petropolis</td>\n",
              "      <td>RJ</td>\n",
              "      <td>-22.920105</td>\n",
              "      <td>-43.221382</td>\n",
              "      <td>-22.436244</td>\n",
              "      <td>-43.140338</td>\n",
              "      <td>54.458637</td>\n",
              "      <td>1.601725</td>\n",
              "      <td>moveis_decoracao</td>\n",
              "      <td>52.0</td>\n",
              "      <td>361.0</td>\n",
              "      <td>2.0</td>\n",
              "      <td>100.0</td>\n",
              "      <td>16.0</td>\n",
              "      <td>3.0</td>\n",
              "      <td>23.0</td>\n",
              "      <td>furniture_decor</td>\n",
              "      <td>28</td>\n",
              "      <td>8</td>\n",
              "      <td>35</td>\n",
              "      <td>21</td>\n",
              "      <td>1</td>\n",
              "      <td>5</td>\n",
              "      <td>1104.0</td>\n",
              "      <td>27.46</td>\n",
              "    </tr>\n",
              "  </tbody>\n",
              "</table>\n",
              "<p>100892 rows × 45 columns</p>\n",
              "</div>"
            ],
            "text/plain": [
              "                                order_id  order_item_id  ...   volume tot_price\n",
              "10218   bfbd0f9bdef84302105ad712db648a6c              1  ...   4096.0     47.82\n",
              "10219   bfbd0f9bdef84302105ad712db648a6c              2  ...   4096.0     47.82\n",
              "10220   bfbd0f9bdef84302105ad712db648a6c              3  ...   4096.0     47.82\n",
              "100302  1ff217aa612f6cd7c4255c9bfe931c8b              1  ...   9261.0     44.23\n",
              "98376   cd3b8574c82b42fc8129f6d502690c3e              1  ...   2640.0     40.95\n",
              "...                                  ...            ...  ...      ...       ...\n",
              "27304   d4fae577806d683110e00e18a5e181be              2  ...   4800.0     28.62\n",
              "27305   d4fae577806d683110e00e18a5e181be              3  ...   4800.0     28.62\n",
              "30473   d4fae577806d683110e00e18a5e181be              4  ...  12000.0     53.56\n",
              "52885   9344079d5fbb7dd79af908b7eb667db7              1  ...  36000.0    188.13\n",
              "46445   3064071cf67a2cc381cd53b13055eac5              1  ...   1104.0     27.46\n",
              "\n",
              "[100892 rows x 45 columns]"
            ]
          },
          "metadata": {
            "tags": []
          },
          "execution_count": 32
        }
      ]
    },
    {
      "cell_type": "markdown",
      "metadata": {
        "id": "CABIKzimSeiX"
      },
      "source": [
        "#### Which seller takes more estimated shipping time to ship?\n",
        "- Estimated shipping time : estimated order delivery date - order carrier date(The number of days between estimate delivery date and when the product is actually shipped)\n",
        "- If estimated shipping time is negative, then the shipping is past the estimated delivery time and the order is not in time."
      ]
    },
    {
      "cell_type": "code",
      "metadata": {
        "colab": {
          "base_uri": "https://localhost:8080/"
        },
        "id": "CjVn37yZSei0",
        "outputId": "a1d2a18a-ad33-49f6-d39d-ed6d6fe5e6b3"
      },
      "source": [
        "olist_item_cat_trans.groupby(['seller_id'])['Est_Shipping_time'].mean().sort_values(ascending=False)"
      ],
      "execution_count": null,
      "outputs": [
        {
          "output_type": "execute_result",
          "data": {
            "text/plain": [
              "seller_id\n",
              "933446e9a59dece7ae9175103820ca8f    74.000000\n",
              "6dc9bec584588412a6a338830946a3e4    62.000000\n",
              "fa5fdc4e4bb6bd1009ad0e4ac4096562    61.000000\n",
              "0b09101900100c0e9d312861fad5a1b9    56.000000\n",
              "b92e3c8f9738272ff7c59e111e108d7c    54.076923\n",
              "                                      ...    \n",
              "8e670472e453ba34a379331513d6aab1   -10.000000\n",
              "9b522ba7eae9e1d04082f267144583cc   -10.800000\n",
              "8d92f3ea807b89465643c219455e7369   -11.000000\n",
              "6d04126aba80df143fd038e711b8fd96   -12.000000\n",
              "e09887ca8c7bf8a4621ce481820414ef   -20.666667\n",
              "Name: Est_Shipping_time, Length: 2875, dtype: float64"
            ]
          },
          "metadata": {
            "tags": []
          },
          "execution_count": 33
        }
      ]
    },
    {
      "cell_type": "code",
      "metadata": {
        "colab": {
          "base_uri": "https://localhost:8080/"
        },
        "id": "MWV_OEZDBT-R",
        "outputId": "6f12d897-aea6-4fc4-e016-34ce3ab984b7"
      },
      "source": [
        "# Sellers who do not ship the products before estimated delivery date\n",
        "olist_item_cat_trans[olist_item_cat_trans['Est_Shipping_time'] < 0][['seller_id','seller_state']].value_counts()"
      ],
      "execution_count": null,
      "outputs": [
        {
          "output_type": "execute_result",
          "data": {
            "text/plain": [
              "seller_id                         seller_state\n",
              "54965bbe3e4f07ae045b90b0b8541f52  PR              24\n",
              "42b729f859728f5079499127a9c2ef37  SP              10\n",
              "bbad7e518d7af88a0897397ffdca1979  SP               7\n",
              "2eb70248d66e0e3ef83659f71b244378  SP               7\n",
              "b1b3948701c5c72445495bd161b83a4c  SP               7\n",
              "                                                  ..\n",
              "9c57bc60cfad5ee62d35d3f1ce4593a1  PR               1\n",
              "9b522ba7eae9e1d04082f267144583cc  SP               1\n",
              "9b013e03b2ab786505a1d3b5c0756754  SP               1\n",
              "99a54764c341d5dc80b4a8fac4eba3fb  SP               1\n",
              "00720abe85ba0859807595bbf045a33b  SP               1\n",
              "Length: 200, dtype: int64"
            ]
          },
          "metadata": {
            "tags": []
          },
          "execution_count": 34
        }
      ]
    },
    {
      "cell_type": "markdown",
      "metadata": {
        "id": "L8JMFsvAX0WW"
      },
      "source": [
        "- There are 200 sellers who do not ship products before the estimated delivery date and fails to deliver the order on time."
      ]
    },
    {
      "cell_type": "code",
      "metadata": {
        "colab": {
          "base_uri": "https://localhost:8080/",
          "height": 419
        },
        "id": "QusmWj-mY89z",
        "outputId": "6489d5b5-2394-4465-ca8c-c283a0a2cdd2"
      },
      "source": [
        "olist_item_cat_trans[olist_item_cat_trans['Est_Shipping_time'] < 0][['seller_id','seller_state','customer_state','distance']].sort_values('distance',ascending=False)"
      ],
      "execution_count": null,
      "outputs": [
        {
          "output_type": "execute_result",
          "data": {
            "text/html": [
              "<div>\n",
              "<style scoped>\n",
              "    .dataframe tbody tr th:only-of-type {\n",
              "        vertical-align: middle;\n",
              "    }\n",
              "\n",
              "    .dataframe tbody tr th {\n",
              "        vertical-align: top;\n",
              "    }\n",
              "\n",
              "    .dataframe thead th {\n",
              "        text-align: right;\n",
              "    }\n",
              "</style>\n",
              "<table border=\"1\" class=\"dataframe\">\n",
              "  <thead>\n",
              "    <tr style=\"text-align: right;\">\n",
              "      <th></th>\n",
              "      <th>seller_id</th>\n",
              "      <th>seller_state</th>\n",
              "      <th>customer_state</th>\n",
              "      <th>distance</th>\n",
              "    </tr>\n",
              "  </thead>\n",
              "  <tbody>\n",
              "    <tr>\n",
              "      <th>26492</th>\n",
              "      <td>8d92f3ea807b89465643c219455e7369</td>\n",
              "      <td>SP</td>\n",
              "      <td>MA</td>\n",
              "      <td>2418.544655</td>\n",
              "    </tr>\n",
              "    <tr>\n",
              "      <th>4869</th>\n",
              "      <td>06a2c3af7b3aee5d69171b0e14f0ee87</td>\n",
              "      <td>MA</td>\n",
              "      <td>SP</td>\n",
              "      <td>2350.715873</td>\n",
              "    </tr>\n",
              "    <tr>\n",
              "      <th>23880</th>\n",
              "      <td>54965bbe3e4f07ae045b90b0b8541f52</td>\n",
              "      <td>PR</td>\n",
              "      <td>BA</td>\n",
              "      <td>2202.948961</td>\n",
              "    </tr>\n",
              "    <tr>\n",
              "      <th>737</th>\n",
              "      <td>aac29b1b99776be73c3049939652091d</td>\n",
              "      <td>MG</td>\n",
              "      <td>PE</td>\n",
              "      <td>1882.470676</td>\n",
              "    </tr>\n",
              "    <tr>\n",
              "      <th>68095</th>\n",
              "      <td>c990d6cf976a5718aaedc539f383ab88</td>\n",
              "      <td>SP</td>\n",
              "      <td>PI</td>\n",
              "      <td>1845.523973</td>\n",
              "    </tr>\n",
              "    <tr>\n",
              "      <th>...</th>\n",
              "      <td>...</td>\n",
              "      <td>...</td>\n",
              "      <td>...</td>\n",
              "      <td>...</td>\n",
              "    </tr>\n",
              "    <tr>\n",
              "      <th>70896</th>\n",
              "      <td>538caafddff204241cecbf3a02e6b3cf</td>\n",
              "      <td>SP</td>\n",
              "      <td>SP</td>\n",
              "      <td>4.995479</td>\n",
              "    </tr>\n",
              "    <tr>\n",
              "      <th>80513</th>\n",
              "      <td>6560211a19b47992c3666cc44a7e94c0</td>\n",
              "      <td>SP</td>\n",
              "      <td>SP</td>\n",
              "      <td>4.450447</td>\n",
              "    </tr>\n",
              "    <tr>\n",
              "      <th>68393</th>\n",
              "      <td>ad781527c93d00d89a11eecd9dcad7c1</td>\n",
              "      <td>SP</td>\n",
              "      <td>SP</td>\n",
              "      <td>4.309460</td>\n",
              "    </tr>\n",
              "    <tr>\n",
              "      <th>76250</th>\n",
              "      <td>323ce52b5b81df2cd804b017b7f09aa7</td>\n",
              "      <td>SP</td>\n",
              "      <td>SP</td>\n",
              "      <td>3.331776</td>\n",
              "    </tr>\n",
              "    <tr>\n",
              "      <th>65408</th>\n",
              "      <td>e9d99831abad74458942f21e16f33f92</td>\n",
              "      <td>SP</td>\n",
              "      <td>SP</td>\n",
              "      <td>2.112947</td>\n",
              "    </tr>\n",
              "  </tbody>\n",
              "</table>\n",
              "<p>368 rows × 4 columns</p>\n",
              "</div>"
            ],
            "text/plain": [
              "                              seller_id  ...     distance\n",
              "26492  8d92f3ea807b89465643c219455e7369  ...  2418.544655\n",
              "4869   06a2c3af7b3aee5d69171b0e14f0ee87  ...  2350.715873\n",
              "23880  54965bbe3e4f07ae045b90b0b8541f52  ...  2202.948961\n",
              "737    aac29b1b99776be73c3049939652091d  ...  1882.470676\n",
              "68095  c990d6cf976a5718aaedc539f383ab88  ...  1845.523973\n",
              "...                                 ...  ...          ...\n",
              "70896  538caafddff204241cecbf3a02e6b3cf  ...     4.995479\n",
              "80513  6560211a19b47992c3666cc44a7e94c0  ...     4.450447\n",
              "68393  ad781527c93d00d89a11eecd9dcad7c1  ...     4.309460\n",
              "76250  323ce52b5b81df2cd804b017b7f09aa7  ...     3.331776\n",
              "65408  e9d99831abad74458942f21e16f33f92  ...     2.112947\n",
              "\n",
              "[368 rows x 4 columns]"
            ]
          },
          "metadata": {
            "tags": []
          },
          "execution_count": 35
        }
      ]
    },
    {
      "cell_type": "markdown",
      "metadata": {
        "id": "dnfNoT0EZiLe"
      },
      "source": [
        "- Probably, the reason for delayed shipment is the distance between the seller and customers as there are records which says sellers and customers belongs to different states."
      ]
    },
    {
      "cell_type": "code",
      "metadata": {
        "colab": {
          "base_uri": "https://localhost:8080/",
          "height": 224
        },
        "id": "fxNZ80p4hCtV",
        "outputId": "cc7ef757-aa3f-4ed4-d014-e35c73e33028"
      },
      "source": [
        "olist_imp_feat = olist_item_cat_trans[['product_category_name_english','price', 'freight_value', 'seller_zip_code_prefix', 'customer_lng','customer_lat',\n",
        "                                       'customer_zip_code_prefix','distance','order_purchase_day','order_purchase_month','tot_price',\n",
        "                                       'order_purchase_week','order_purchase_hour','Preparation_time','Est_Shipping_time','volume','speed','Lead']]\n",
        "olist_imp_feat.head()"
      ],
      "execution_count": null,
      "outputs": [
        {
          "output_type": "execute_result",
          "data": {
            "text/html": [
              "<div>\n",
              "<style scoped>\n",
              "    .dataframe tbody tr th:only-of-type {\n",
              "        vertical-align: middle;\n",
              "    }\n",
              "\n",
              "    .dataframe tbody tr th {\n",
              "        vertical-align: top;\n",
              "    }\n",
              "\n",
              "    .dataframe thead th {\n",
              "        text-align: right;\n",
              "    }\n",
              "</style>\n",
              "<table border=\"1\" class=\"dataframe\">\n",
              "  <thead>\n",
              "    <tr style=\"text-align: right;\">\n",
              "      <th></th>\n",
              "      <th>product_category_name_english</th>\n",
              "      <th>price</th>\n",
              "      <th>freight_value</th>\n",
              "      <th>seller_zip_code_prefix</th>\n",
              "      <th>customer_lng</th>\n",
              "      <th>customer_lat</th>\n",
              "      <th>customer_zip_code_prefix</th>\n",
              "      <th>distance</th>\n",
              "      <th>order_purchase_day</th>\n",
              "      <th>order_purchase_month</th>\n",
              "      <th>tot_price</th>\n",
              "      <th>order_purchase_week</th>\n",
              "      <th>order_purchase_hour</th>\n",
              "      <th>Preparation_time</th>\n",
              "      <th>Est_Shipping_time</th>\n",
              "      <th>volume</th>\n",
              "      <th>speed</th>\n",
              "      <th>Lead</th>\n",
              "    </tr>\n",
              "  </thead>\n",
              "  <tbody>\n",
              "    <tr>\n",
              "      <th>10218</th>\n",
              "      <td>health_beauty</td>\n",
              "      <td>44.99</td>\n",
              "      <td>2.83</td>\n",
              "      <td>81810</td>\n",
              "      <td>-47.858931</td>\n",
              "      <td>-20.581177</td>\n",
              "      <td>14600</td>\n",
              "      <td>566.666761</td>\n",
              "      <td>15</td>\n",
              "      <td>9</td>\n",
              "      <td>47.82</td>\n",
              "      <td>37</td>\n",
              "      <td>12</td>\n",
              "      <td>53</td>\n",
              "      <td>-34</td>\n",
              "      <td>4096.0</td>\n",
              "      <td>0.430925</td>\n",
              "      <td>1315.0</td>\n",
              "    </tr>\n",
              "    <tr>\n",
              "      <th>10219</th>\n",
              "      <td>health_beauty</td>\n",
              "      <td>44.99</td>\n",
              "      <td>2.83</td>\n",
              "      <td>81810</td>\n",
              "      <td>-47.858931</td>\n",
              "      <td>-20.581177</td>\n",
              "      <td>14600</td>\n",
              "      <td>566.666761</td>\n",
              "      <td>15</td>\n",
              "      <td>9</td>\n",
              "      <td>47.82</td>\n",
              "      <td>37</td>\n",
              "      <td>12</td>\n",
              "      <td>53</td>\n",
              "      <td>-34</td>\n",
              "      <td>4096.0</td>\n",
              "      <td>0.430925</td>\n",
              "      <td>1315.0</td>\n",
              "    </tr>\n",
              "    <tr>\n",
              "      <th>10220</th>\n",
              "      <td>health_beauty</td>\n",
              "      <td>44.99</td>\n",
              "      <td>2.83</td>\n",
              "      <td>81810</td>\n",
              "      <td>-47.858931</td>\n",
              "      <td>-20.581177</td>\n",
              "      <td>14600</td>\n",
              "      <td>566.666761</td>\n",
              "      <td>15</td>\n",
              "      <td>9</td>\n",
              "      <td>47.82</td>\n",
              "      <td>37</td>\n",
              "      <td>12</td>\n",
              "      <td>53</td>\n",
              "      <td>-34</td>\n",
              "      <td>4096.0</td>\n",
              "      <td>0.430925</td>\n",
              "      <td>1315.0</td>\n",
              "    </tr>\n",
              "    <tr>\n",
              "      <th>100302</th>\n",
              "      <td>consoles_games</td>\n",
              "      <td>32.49</td>\n",
              "      <td>11.74</td>\n",
              "      <td>14092</td>\n",
              "      <td>-46.670188</td>\n",
              "      <td>-23.740974</td>\n",
              "      <td>4849</td>\n",
              "      <td>306.938260</td>\n",
              "      <td>4</td>\n",
              "      <td>10</td>\n",
              "      <td>44.23</td>\n",
              "      <td>40</td>\n",
              "      <td>9</td>\n",
              "      <td>17</td>\n",
              "      <td>34</td>\n",
              "      <td>9261.0</td>\n",
              "      <td>0.631560</td>\n",
              "      <td>486.0</td>\n",
              "    </tr>\n",
              "    <tr>\n",
              "      <th>98376</th>\n",
              "      <td>fashion_shoes</td>\n",
              "      <td>29.99</td>\n",
              "      <td>10.96</td>\n",
              "      <td>13481</td>\n",
              "      <td>-45.569976</td>\n",
              "      <td>-23.036952</td>\n",
              "      <td>12030</td>\n",
              "      <td>191.832099</td>\n",
              "      <td>3</td>\n",
              "      <td>10</td>\n",
              "      <td>40.95</td>\n",
              "      <td>40</td>\n",
              "      <td>22</td>\n",
              "      <td>5</td>\n",
              "      <td>46</td>\n",
              "      <td>2640.0</td>\n",
              "      <td>0.782988</td>\n",
              "      <td>245.0</td>\n",
              "    </tr>\n",
              "  </tbody>\n",
              "</table>\n",
              "</div>"
            ],
            "text/plain": [
              "       product_category_name_english  price  ...     speed    Lead\n",
              "10218                  health_beauty  44.99  ...  0.430925  1315.0\n",
              "10219                  health_beauty  44.99  ...  0.430925  1315.0\n",
              "10220                  health_beauty  44.99  ...  0.430925  1315.0\n",
              "100302                consoles_games  32.49  ...  0.631560   486.0\n",
              "98376                  fashion_shoes  29.99  ...  0.782988   245.0\n",
              "\n",
              "[5 rows x 18 columns]"
            ]
          },
          "metadata": {
            "tags": []
          },
          "execution_count": 36
        }
      ]
    },
    {
      "cell_type": "code",
      "metadata": {
        "id": "e0zQwpgrj5dL"
      },
      "source": [
        "# Product_category\n",
        "olist_imp_feat['product_category_name_english'] = olist_imp_feat['product_category_name_english'].map(olist_imp_feat['product_category_name_english'].value_counts())"
      ],
      "execution_count": null,
      "outputs": []
    },
    {
      "cell_type": "code",
      "metadata": {
        "colab": {
          "base_uri": "https://localhost:8080/",
          "height": 530
        },
        "id": "3oPyUf9Tg9LW",
        "outputId": "17cf1813-1769-4111-b0fd-59323f344514"
      },
      "source": [
        "plt.figure(figsize=(15,6))\n",
        "sns.heatmap(olist_imp_feat.corr(),annot=True);"
      ],
      "execution_count": null,
      "outputs": [
        {
          "output_type": "display_data",
          "data": {
            "image/png": "[encoded data removed]",
            "text/plain": [
              "<Figure size 1080x432 with 2 Axes>"
            ]
          },
          "metadata": {
            "tags": [],
            "needs_background": "light"
          }
        }
      ]
    },
    {
      "cell_type": "code",
      "metadata": {
        "colab": {
          "base_uri": "https://localhost:8080/"
        },
        "id": "L2LCYHwF4HoJ",
        "outputId": "9883d5e7-d136-4979-c894-6fa09f737457"
      },
      "source": [
        "# Check for Outliers and Null values\n",
        "olist_imp_feat.isnull().sum()"
      ],
      "execution_count": null,
      "outputs": [
        {
          "output_type": "execute_result",
          "data": {
            "text/plain": [
              "product_category_name_english    0\n",
              "price                            0\n",
              "freight_value                    0\n",
              "seller_zip_code_prefix           0\n",
              "customer_lng                     0\n",
              "customer_lat                     0\n",
              "customer_zip_code_prefix         0\n",
              "distance                         0\n",
              "order_purchase_day               0\n",
              "order_purchase_month             0\n",
              "tot_price                        0\n",
              "order_purchase_week              0\n",
              "order_purchase_hour              0\n",
              "Preparation_time                 0\n",
              "Est_Shipping_time                0\n",
              "volume                           1\n",
              "speed                            0\n",
              "Lead                             0\n",
              "dtype: int64"
            ]
          },
          "metadata": {
            "tags": []
          },
          "execution_count": 39
        }
      ]
    },
    {
      "cell_type": "code",
      "metadata": {
        "colab": {
          "base_uri": "https://localhost:8080/"
        },
        "id": "DolCqK7O4Xp8",
        "outputId": "e19b77b3-2a7a-4abb-a647-97b24e71ccca"
      },
      "source": [
        "# Dropping null value\n",
        "olist_imp_feat = olist_imp_feat.dropna()\n",
        "olist_imp_feat.isnull().sum().sum()"
      ],
      "execution_count": null,
      "outputs": [
        {
          "output_type": "execute_result",
          "data": {
            "text/plain": [
              "0"
            ]
          },
          "metadata": {
            "tags": []
          },
          "execution_count": 40
        }
      ]
    },
    {
      "cell_type": "code",
      "metadata": {
        "colab": {
          "base_uri": "https://localhost:8080/",
          "height": 1000
        },
        "id": "ElQYCMd54eZN",
        "outputId": "fa681e70-0ed3-439e-c11e-24395e57b363"
      },
      "source": [
        "# Check for outliers\n",
        "for i in olist_imp_feat.columns:\n",
        "  sns.boxplot(x=olist_imp_feat[i])\n",
        "  plt.show()"
      ],
      "execution_count": null,
      "outputs": [
        {
          "output_type": "display_data",
          "data": {
            "image/png": "[encoded data removed]",
            "text/plain": [
              "<Figure size 432x288 with 1 Axes>"
            ]
          },
          "metadata": {
            "tags": [],
            "needs_background": "light"
          }
        },
        {
          "output_type": "display_data",
          "data": {
            "image/png": "[encoded data removed]",
            "text/plain": [
              "<Figure size 432x288 with 1 Axes>"
            ]
          },
          "metadata": {
            "tags": [],
            "needs_background": "light"
          }
        },
        {
          "output_type": "display_data",
          "data": {
            "image/png": "[encoded data removed]",
            "text/plain": [
              "<Figure size 432x288 with 1 Axes>"
            ]
          },
          "metadata": {
            "tags": [],
            "needs_background": "light"
          }
        },
        {
          "output_type": "display_data",
          "data": {
            "image/png": "[encoded data removed]",
            "text/plain": [
              "<Figure size 432x288 with 1 Axes>"
            ]
          },
          "metadata": {
            "tags": [],
            "needs_background": "light"
          }
        },
        {
          "output_type": "display_data",
          "data": {
            "image/png": "[encoded data removed]",
            "text/plain": [
              "<Figure size 432x288 with 1 Axes>"
            ]
          },
          "metadata": {
            "tags": [],
            "needs_background": "light"
          }
        },
        {
          "output_type": "display_data",
          "data": {
            "image/png": "[encoded data removed]",
            "text/plain": [
              "<Figure size 432x288 with 1 Axes>"
            ]
          },
          "metadata": {
            "tags": [],
            "needs_background": "light"
          }
        },
        {
          "output_type": "display_data",
          "data": {
            "image/png": "[encoded data removed]",
            "text/plain": [
              "<Figure size 432x288 with 1 Axes>"
            ]
          },
          "metadata": {
            "tags": [],
            "needs_background": "light"
          }
        },
        {
          "output_type": "display_data",
          "data": {
            "image/png": "[encoded data removed]",
            "text/plain": [
              "<Figure size 432x288 with 1 Axes>"
            ]
          },
          "metadata": {
            "tags": [],
            "needs_background": "light"
          }
        },
        {
          "output_type": "display_data",
          "data": {
            "image/png": "[encoded data removed]",
            "text/plain": [
              "<Figure size 432x288 with 1 Axes>"
            ]
          },
          "metadata": {
            "tags": [],
            "needs_background": "light"
          }
        },
        {
          "output_type": "display_data",
          "data": {
            "image/png": "[encoded data removed]",
            "text/plain": [
              "<Figure size 432x288 with 1 Axes>"
            ]
          },
          "metadata": {
            "tags": [],
            "needs_background": "light"
          }
        },
        {
          "output_type": "display_data",
          "data": {
            "image/png": "[encoded data removed]",
            "text/plain": [
              "<Figure size 432x288 with 1 Axes>"
            ]
          },
          "metadata": {
            "tags": [],
            "needs_background": "light"
          }
        },
        {
          "output_type": "display_data",
          "data": {
            "image/png": "[encoded data removed]",
            "text/plain": [
              "<Figure size 432x288 with 1 Axes>"
            ]
          },
          "metadata": {
            "tags": [],
            "needs_background": "light"
          }
        },
        {
          "output_type": "display_data",
          "data": {
            "image/png": "[encoded data removed]",
            "text/plain": [
              "<Figure size 432x288 with 1 Axes>"
            ]
          },
          "metadata": {
            "tags": [],
            "needs_background": "light"
          }
        },
        {
          "output_type": "display_data",
          "data": {
            "image/png": "[encoded data removed]",
            "text/plain": [
              "<Figure size 432x288 with 1 Axes>"
            ]
          },
          "metadata": {
            "tags": [],
            "needs_background": "light"
          }
        },
        {
          "output_type": "display_data",
          "data": {
            "image/png": "[encoded data removed]",
            "text/plain": [
              "<Figure size 432x288 with 1 Axes>"
            ]
          },
          "metadata": {
            "tags": [],
            "needs_background": "light"
          }
        },
        {
          "output_type": "display_data",
          "data": {
            "image/png": "[encoded data removed]",
            "text/plain": [
              "<Figure size 432x288 with 1 Axes>"
            ]
          },
          "metadata": {
            "tags": [],
            "needs_background": "light"
          }
        },
        {
          "output_type": "display_data",
          "data": {
            "image/png": "[encoded data removed]",
            "text/plain": [
              "<Figure size 432x288 with 1 Axes>"
            ]
          },
          "metadata": {
            "tags": [],
            "needs_background": "light"
          }
        },
        {
          "output_type": "display_data",
          "data": {
            "image/png": "[encoded data removed]",
            "text/plain": [
              "<Figure size 432x288 with 1 Axes>"
            ]
          },
          "metadata": {
            "tags": [],
            "needs_background": "light"
          }
        }
      ]
    },
    {
      "cell_type": "markdown",
      "metadata": {
        "id": "PxWcC7lV4ypz"
      },
      "source": [
        "- Most of the features has influential points/extreme values/outliers - An influential point is an outlier that greatly affects the slope of the regression line. To test the influence of an outlier we could compute the regression equation with and without the outlier."
      ]
    },
    {
      "cell_type": "code",
      "metadata": {
        "id": "Qe0XBczwJQ24"
      },
      "source": [
        "# Winscorization - Capping the outliers \n",
        "\n",
        "data = olist_imp_feat.copy()\n",
        "\n",
        "for i in data.columns:\n",
        "    q1=data[i].quantile(0.25)\n",
        "    q3=data[i].quantile(0.75)\n",
        "    iqr=q3-q1\n",
        "    ub=q3 + 1.5*iqr\n",
        "    lb=q1 - 1.5*iqr\n",
        "    uc=data[i].quantile(0.99)\n",
        "    lc=data[i].quantile(0.01)\n",
        "    for ind1 in data[i].index:\n",
        "        if data.loc[ind1, i] >ub:            \n",
        "            data.loc[ind1, i] =uc\n",
        "        if data.loc[ind1, i] < lb:\n",
        "            data.loc[ind1, i] =lc"
      ],
      "execution_count": null,
      "outputs": []
    },
    {
      "cell_type": "code",
      "metadata": {
        "colab": {
          "base_uri": "https://localhost:8080/",
          "height": 1000
        },
        "id": "z1iUns4XQVTh",
        "outputId": "e6662b17-46e3-4ab2-b5ca-5fe80de33640"
      },
      "source": [
        "# Check for outliers\n",
        "for i in data.columns:\n",
        "  sns.boxplot(x=data[i])\n",
        "  plt.show()"
      ],
      "execution_count": null,
      "outputs": [
        {
          "output_type": "display_data",
          "data": {
            "image/png": "[encoded data removed]",
            "text/plain": [
              "<Figure size 432x288 with 1 Axes>"
            ]
          },
          "metadata": {
            "tags": [],
            "needs_background": "light"
          }
        },
        {
          "output_type": "display_data",
          "data": {
            "image/png": "[encoded data removed]",
            "text/plain": [
              "<Figure size 432x288 with 1 Axes>"
            ]
          },
          "metadata": {
            "tags": [],
            "needs_background": "light"
          }
        },
        {
          "output_type": "display_data",
          "data": {
            "image/png": "[encoded data removed]",
            "text/plain": [
              "<Figure size 432x288 with 1 Axes>"
            ]
          },
          "metadata": {
            "tags": [],
            "needs_background": "light"
          }
        },
        {
          "output_type": "display_data",
          "data": {
            "image/png": "[encoded data removed]",
            "text/plain": [
              "<Figure size 432x288 with 1 Axes>"
            ]
          },
          "metadata": {
            "tags": [],
            "needs_background": "light"
          }
        },
        {
          "output_type": "display_data",
          "data": {
            "image/png": "[encoded data removed]",
            "text/plain": [
              "<Figure size 432x288 with 1 Axes>"
            ]
          },
          "metadata": {
            "tags": [],
            "needs_background": "light"
          }
        },
        {
          "output_type": "display_data",
          "data": {
            "image/png": "[encoded data removed]",
            "text/plain": [
              "<Figure size 432x288 with 1 Axes>"
            ]
          },
          "metadata": {
            "tags": [],
            "needs_background": "light"
          }
        },
        {
          "output_type": "display_data",
          "data": {
            "image/png": "[encoded data removed]",
            "text/plain": [
              "<Figure size 432x288 with 1 Axes>"
            ]
          },
          "metadata": {
            "tags": [],
            "needs_background": "light"
          }
        },
        {
          "output_type": "display_data",
          "data": {
            "image/png": "[encoded data removed]",
            "text/plain": [
              "<Figure size 432x288 with 1 Axes>"
            ]
          },
          "metadata": {
            "tags": [],
            "needs_background": "light"
          }
        },
        {
          "output_type": "display_data",
          "data": {
            "image/png": "[encoded data removed]",
            "text/plain": [
              "<Figure size 432x288 with 1 Axes>"
            ]
          },
          "metadata": {
            "tags": [],
            "needs_background": "light"
          }
        },
        {
          "output_type": "display_data",
          "data": {
            "image/png": "[encoded data removed]",
            "text/plain": [
              "<Figure size 432x288 with 1 Axes>"
            ]
          },
          "metadata": {
            "tags": [],
            "needs_background": "light"
          }
        },
        {
          "output_type": "display_data",
          "data": {
            "image/png": "[encoded data removed]",
            "text/plain": [
              "<Figure size 432x288 with 1 Axes>"
            ]
          },
          "metadata": {
            "tags": [],
            "needs_background": "light"
          }
        },
        {
          "output_type": "display_data",
          "data": {
            "image/png": "[encoded data removed]",
            "text/plain": [
              "<Figure size 432x288 with 1 Axes>"
            ]
          },
          "metadata": {
            "tags": [],
            "needs_background": "light"
          }
        },
        {
          "output_type": "display_data",
          "data": {
            "image/png": "[encoded data removed]",
            "text/plain": [
              "<Figure size 432x288 with 1 Axes>"
            ]
          },
          "metadata": {
            "tags": [],
            "needs_background": "light"
          }
        },
        {
          "output_type": "display_data",
          "data": {
            "image/png": "[encoded data removed]",
            "text/plain": [
              "<Figure size 432x288 with 1 Axes>"
            ]
          },
          "metadata": {
            "tags": [],
            "needs_background": "light"
          }
        },
        {
          "output_type": "display_data",
          "data": {
            "image/png": "[encoded data removed]",
            "text/plain": [
              "<Figure size 432x288 with 1 Axes>"
            ]
          },
          "metadata": {
            "tags": [],
            "needs_background": "light"
          }
        },
        {
          "output_type": "display_data",
          "data": {
            "image/png": "[encoded data removed]",
            "text/plain": [
              "<Figure size 432x288 with 1 Axes>"
            ]
          },
          "metadata": {
            "tags": [],
            "needs_background": "light"
          }
        },
        {
          "output_type": "display_data",
          "data": {
            "image/png": "[encoded data removed]",
            "text/plain": [
              "<Figure size 432x288 with 1 Axes>"
            ]
          },
          "metadata": {
            "tags": [],
            "needs_background": "light"
          }
        },
        {
          "output_type": "display_data",
          "data": {
            "image/png": "[encoded data removed]",
            "text/plain": [
              "<Figure size 432x288 with 1 Axes>"
            ]
          },
          "metadata": {
            "tags": [],
            "needs_background": "light"
          }
        }
      ]
    },
    {
      "cell_type": "markdown",
      "metadata": {
        "id": "JE71QPA4i3i2"
      },
      "source": [
        "## Model building\n",
        "### Train test split"
      ]
    },
    {
      "cell_type": "code",
      "metadata": {
        "id": "iAf8BtE5SQPe"
      },
      "source": [
        "from sklearn.preprocessing import StandardScaler,PowerTransformer,MinMaxScaler\n",
        "from sklearn.model_selection import train_test_split,cross_val_score,KFold\n",
        "from sklearn.linear_model import LinearRegression,Ridge,Lasso\n",
        "from sklearn.feature_selection import RFECV\n",
        "from sklearn.metrics import r2_score,mean_squared_error"
      ],
      "execution_count": null,
      "outputs": []
    },
    {
      "cell_type": "code",
      "metadata": {
        "id": "76yyjQ-p4yFj"
      },
      "source": [
        "## Apply power transformer and standardisation to the input features \n",
        "## Log transformation on target feature - to satisfy linear regression assumption\n",
        "x=data.drop(['Lead','volume'],axis=1)\n",
        "sc=PowerTransformer(standardize=True) \n",
        "x_sc=sc.fit_transform(x)\n",
        "x_sc=pd.DataFrame(x_sc,columns=x.columns,index=x.index)\n",
        "y=np.log(data['Lead'])\n",
        "\n",
        "x_train,x_test,y_train,y_test=train_test_split(x_sc,y,test_size=0.2,random_state=0)"
      ],
      "execution_count": null,
      "outputs": []
    },
    {
      "cell_type": "markdown",
      "metadata": {
        "id": "Tqz2F_eLjO-R"
      },
      "source": [
        "## Base Model"
      ]
    },
    {
      "cell_type": "code",
      "metadata": {
        "colab": {
          "base_uri": "https://localhost:8080/",
          "height": 759
        },
        "id": "9t-0fkwG9OQR",
        "outputId": "b842a1b2-85a0-451b-8d32-9a3639d1f7ab"
      },
      "source": [
        "#Base model\n",
        "import statsmodels.api as sm\n",
        "from statsmodels.api import add_constant\n",
        "xc=sm.add_constant(x_train)\n",
        "model=sm.OLS(y_train,xc).fit()\n",
        "model.summary()"
      ],
      "execution_count": null,
      "outputs": [
        {
          "output_type": "execute_result",
          "data": {
            "text/html": [
              "<table class=\"simpletable\">\n",
              "<caption>OLS Regression Results</caption>\n",
              "<tr>\n",
              "  <th>Dep. Variable:</th>          <td>Lead</td>       <th>  R-squared:         </th> <td>   0.883</td> \n",
              "</tr>\n",
              "<tr>\n",
              "  <th>Model:</th>                   <td>OLS</td>       <th>  Adj. R-squared:    </th> <td>   0.883</td> \n",
              "</tr>\n",
              "<tr>\n",
              "  <th>Method:</th>             <td>Least Squares</td>  <th>  F-statistic:       </th> <td>3.797e+04</td>\n",
              "</tr>\n",
              "<tr>\n",
              "  <th>Date:</th>             <td>Fri, 19 Mar 2021</td> <th>  Prob (F-statistic):</th>  <td>  0.00</td>  \n",
              "</tr>\n",
              "<tr>\n",
              "  <th>Time:</th>                 <td>06:26:01</td>     <th>  Log-Likelihood:    </th> <td> -1132.2</td> \n",
              "</tr>\n",
              "<tr>\n",
              "  <th>No. Observations:</th>      <td> 80712</td>      <th>  AIC:               </th> <td>   2298.</td> \n",
              "</tr>\n",
              "<tr>\n",
              "  <th>Df Residuals:</th>          <td> 80695</td>      <th>  BIC:               </th> <td>   2456.</td> \n",
              "</tr>\n",
              "<tr>\n",
              "  <th>Df Model:</th>              <td>    16</td>      <th>                     </th>     <td> </td>    \n",
              "</tr>\n",
              "<tr>\n",
              "  <th>Covariance Type:</th>      <td>nonrobust</td>    <th>                     </th>     <td> </td>    \n",
              "</tr>\n",
              "</table>\n",
              "<table class=\"simpletable\">\n",
              "<tr>\n",
              "                <td></td>                   <th>coef</th>     <th>std err</th>      <th>t</th>      <th>P>|t|</th>  <th>[0.025</th>    <th>0.975]</th>  \n",
              "</tr>\n",
              "<tr>\n",
              "  <th>const</th>                         <td>    5.4594</td> <td>    0.001</td> <td> 6319.839</td> <td> 0.000</td> <td>    5.458</td> <td>    5.461</td>\n",
              "</tr>\n",
              "<tr>\n",
              "  <th>product_category_name_english</th> <td>    0.0020</td> <td>    0.001</td> <td>    2.313</td> <td> 0.021</td> <td>    0.000</td> <td>    0.004</td>\n",
              "</tr>\n",
              "<tr>\n",
              "  <th>price</th>                         <td>   -0.0582</td> <td>    0.007</td> <td>   -8.893</td> <td> 0.000</td> <td>   -0.071</td> <td>   -0.045</td>\n",
              "</tr>\n",
              "<tr>\n",
              "  <th>freight_value</th>                 <td>    0.0102</td> <td>    0.001</td> <td>    6.940</td> <td> 0.000</td> <td>    0.007</td> <td>    0.013</td>\n",
              "</tr>\n",
              "<tr>\n",
              "  <th>seller_zip_code_prefix</th>        <td>    0.0177</td> <td>    0.001</td> <td>   18.840</td> <td> 0.000</td> <td>    0.016</td> <td>    0.020</td>\n",
              "</tr>\n",
              "<tr>\n",
              "  <th>customer_lng</th>                  <td>    0.0017</td> <td>    0.001</td> <td>    1.605</td> <td> 0.109</td> <td>   -0.000</td> <td>    0.004</td>\n",
              "</tr>\n",
              "<tr>\n",
              "  <th>customer_lat</th>                  <td>   -0.0681</td> <td>    0.001</td> <td>  -58.997</td> <td> 0.000</td> <td>   -0.070</td> <td>   -0.066</td>\n",
              "</tr>\n",
              "<tr>\n",
              "  <th>customer_zip_code_prefix</th>      <td>    0.0079</td> <td>    0.001</td> <td>    6.568</td> <td> 0.000</td> <td>    0.006</td> <td>    0.010</td>\n",
              "</tr>\n",
              "<tr>\n",
              "  <th>distance</th>                      <td>    1.1286</td> <td>    0.002</td> <td>  513.749</td> <td> 0.000</td> <td>    1.124</td> <td>    1.133</td>\n",
              "</tr>\n",
              "<tr>\n",
              "  <th>order_purchase_day</th>            <td>   -0.0043</td> <td>    0.002</td> <td>   -2.027</td> <td> 0.043</td> <td>   -0.008</td> <td>   -0.000</td>\n",
              "</tr>\n",
              "<tr>\n",
              "  <th>order_purchase_month</th>          <td>   -0.0264</td> <td>    0.020</td> <td>   -1.289</td> <td> 0.197</td> <td>   -0.066</td> <td>    0.014</td>\n",
              "</tr>\n",
              "<tr>\n",
              "  <th>tot_price</th>                     <td>    0.0627</td> <td>    0.007</td> <td>    8.976</td> <td> 0.000</td> <td>    0.049</td> <td>    0.076</td>\n",
              "</tr>\n",
              "<tr>\n",
              "  <th>order_purchase_week</th>           <td>    0.0221</td> <td>    0.021</td> <td>    1.077</td> <td> 0.282</td> <td>   -0.018</td> <td>    0.062</td>\n",
              "</tr>\n",
              "<tr>\n",
              "  <th>order_purchase_hour</th>           <td>   -0.0049</td> <td>    0.001</td> <td>   -5.644</td> <td> 0.000</td> <td>   -0.007</td> <td>   -0.003</td>\n",
              "</tr>\n",
              "<tr>\n",
              "  <th>Preparation_time</th>              <td>    0.0551</td> <td>    0.001</td> <td>   56.243</td> <td> 0.000</td> <td>    0.053</td> <td>    0.057</td>\n",
              "</tr>\n",
              "<tr>\n",
              "  <th>Est_Shipping_time</th>             <td>    0.0199</td> <td>    0.001</td> <td>   17.685</td> <td> 0.000</td> <td>    0.018</td> <td>    0.022</td>\n",
              "</tr>\n",
              "<tr>\n",
              "  <th>speed</th>                         <td>   -0.9044</td> <td>    0.002</td> <td> -539.791</td> <td> 0.000</td> <td>   -0.908</td> <td>   -0.901</td>\n",
              "</tr>\n",
              "</table>\n",
              "<table class=\"simpletable\">\n",
              "<tr>\n",
              "  <th>Omnibus:</th>       <td>12311.463</td> <th>  Durbin-Watson:     </th>  <td>   1.986</td> \n",
              "</tr>\n",
              "<tr>\n",
              "  <th>Prob(Omnibus):</th>  <td> 0.000</td>   <th>  Jarque-Bera (JB):  </th> <td>201043.687</td>\n",
              "</tr>\n",
              "<tr>\n",
              "  <th>Skew:</th>           <td>-0.153</td>   <th>  Prob(JB):          </th>  <td>    0.00</td> \n",
              "</tr>\n",
              "<tr>\n",
              "  <th>Kurtosis:</th>       <td>10.726</td>   <th>  Cond. No.          </th>  <td>    64.1</td> \n",
              "</tr>\n",
              "</table><br/><br/>Warnings:<br/>[1] Standard Errors assume that the covariance matrix of the errors is correctly specified."
            ],
            "text/plain": [
              "<class 'statsmodels.iolib.summary.Summary'>\n",
              "\"\"\"\n",
              "                            OLS Regression Results                            \n",
              "==============================================================================\n",
              "Dep. Variable:                   Lead   R-squared:                       0.883\n",
              "Model:                            OLS   Adj. R-squared:                  0.883\n",
              "Method:                 Least Squares   F-statistic:                 3.797e+04\n",
              "Date:                Fri, 19 Mar 2021   Prob (F-statistic):               0.00\n",
              "Time:                        06:26:01   Log-Likelihood:                -1132.2\n",
              "No. Observations:               80712   AIC:                             2298.\n",
              "Df Residuals:                   80695   BIC:                             2456.\n",
              "Df Model:                          16                                         \n",
              "Covariance Type:            nonrobust                                         \n",
              "=================================================================================================\n",
              "                                    coef    std err          t      P>|t|      [0.025      0.975]\n",
              "-------------------------------------------------------------------------------------------------\n",
              "const                             5.4594      0.001   6319.839      0.000       5.458       5.461\n",
              "product_category_name_english     0.0020      0.001      2.313      0.021       0.000       0.004\n",
              "price                            -0.0582      0.007     -8.893      0.000      -0.071      -0.045\n",
              "freight_value                     0.0102      0.001      6.940      0.000       0.007       0.013\n",
              "seller_zip_code_prefix            0.0177      0.001     18.840      0.000       0.016       0.020\n",
              "customer_lng                      0.0017      0.001      1.605      0.109      -0.000       0.004\n",
              "customer_lat                     -0.0681      0.001    -58.997      0.000      -0.070      -0.066\n",
              "customer_zip_code_prefix          0.0079      0.001      6.568      0.000       0.006       0.010\n",
              "distance                          1.1286      0.002    513.749      0.000       1.124       1.133\n",
              "order_purchase_day               -0.0043      0.002     -2.027      0.043      -0.008      -0.000\n",
              "order_purchase_month             -0.0264      0.020     -1.289      0.197      -0.066       0.014\n",
              "tot_price                         0.0627      0.007      8.976      0.000       0.049       0.076\n",
              "order_purchase_week               0.0221      0.021      1.077      0.282      -0.018       0.062\n",
              "order_purchase_hour              -0.0049      0.001     -5.644      0.000      -0.007      -0.003\n",
              "Preparation_time                  0.0551      0.001     56.243      0.000       0.053       0.057\n",
              "Est_Shipping_time                 0.0199      0.001     17.685      0.000       0.018       0.022\n",
              "speed                            -0.9044      0.002   -539.791      0.000      -0.908      -0.901\n",
              "==============================================================================\n",
              "Omnibus:                    12311.463   Durbin-Watson:                   1.986\n",
              "Prob(Omnibus):                  0.000   Jarque-Bera (JB):           201043.687\n",
              "Skew:                          -0.153   Prob(JB):                         0.00\n",
              "Kurtosis:                      10.726   Cond. No.                         64.1\n",
              "==============================================================================\n",
              "\n",
              "Warnings:\n",
              "[1] Standard Errors assume that the covariance matrix of the errors is correctly specified.\n",
              "\"\"\""
            ]
          },
          "metadata": {
            "tags": []
          },
          "execution_count": 46
        }
      ]
    },
    {
      "cell_type": "markdown",
      "metadata": {
        "id": "UMEOq9rC9yAF"
      },
      "source": [
        "- After applying data treatment, From the OLS model :\n",
        "- Auto correlation - serial correlation \n",
        "  - In a regression analysis, autocorrelation of the regression residuals can also occur if the model is incorrectly specified\n",
        "  - Durbin-Watson:\t1.986 - no auto correlation  (1.5 to 2.5)\n",
        "\n",
        "- From the same result of OLS, we can see that multicollinearity is not present in our data, as cond no is small (<100)."
      ]
    },
    {
      "cell_type": "code",
      "metadata": {
        "colab": {
          "base_uri": "https://localhost:8080/",
          "height": 391
        },
        "id": "ZD2U8o56TnvR",
        "outputId": "5669e068-2364-45a1-d5db-374ec5c19165"
      },
      "source": [
        "# Check for Normality assumption \n",
        "plt.figure(figsize=(6,6))\n",
        "model.resid.plot(kind='kde');\n",
        "model.resid.skew()"
      ],
      "execution_count": null,
      "outputs": [
        {
          "output_type": "execute_result",
          "data": {
            "text/plain": [
              "-0.15314488297477818"
            ]
          },
          "metadata": {
            "tags": []
          },
          "execution_count": 47
        },
        {
          "output_type": "display_data",
          "data": {
            "image/png": "[encoded data removed]",
            "text/plain": [
              "<Figure size 432x432 with 1 Axes>"
            ]
          },
          "metadata": {
            "tags": [],
            "needs_background": "light"
          }
        }
      ]
    },
    {
      "cell_type": "code",
      "metadata": {
        "colab": {
          "base_uri": "https://localhost:8080/",
          "height": 404
        },
        "id": "uShgTkyBWi85",
        "outputId": "0d002f5c-a34f-4223-b14d-7bafa5280c15"
      },
      "source": [
        "from statsmodels.graphics.gofplots import qqplot\n",
        "plt.rcParams['figure.figsize']=[6,6]\n",
        "qqplot(model.resid,line='r')\n",
        "plt.title('Q-Q plot')\n",
        "plt.xlabel('Theoretical quantiles')\n",
        "plt.ylabel('Sample quantiles')\n",
        "plt.show()"
      ],
      "execution_count": null,
      "outputs": [
        {
          "output_type": "display_data",
          "data": {
            "image/png": "[encoded data removed]",
            "text/plain": [
              "<Figure size 432x432 with 1 Axes>"
            ]
          },
          "metadata": {
            "tags": [],
            "needs_background": "light"
          }
        }
      ]
    },
    {
      "cell_type": "markdown",
      "metadata": {
        "id": "R16PqAWIXPWq"
      },
      "source": [
        "- Skewness is -0.1 which is between -0.5 to +0.5, our residue is normal.\n",
        "- At both the ends data points deviate from the regression line. Most of the points meets the straight line which suggests, residues are normal. "
      ]
    },
    {
      "cell_type": "code",
      "metadata": {
        "colab": {
          "base_uri": "https://localhost:8080/",
          "height": 374
        },
        "id": "-iZKcGzkG4kl",
        "outputId": "6be8a12a-ebce-490c-b480-856879735987"
      },
      "source": [
        "# Check for Homeskedacity assumption \n",
        "#plot graph between residue and fitted values\n",
        "sns.residplot(model.fittedvalues,model.resid)\n",
        "plt.show()"
      ],
      "execution_count": null,
      "outputs": [
        {
          "output_type": "display_data",
          "data": {
            "image/png": "[encoded data removed]",
            "text/plain": [
              "<Figure size 432x432 with 1 Axes>"
            ]
          },
          "metadata": {
            "tags": [],
            "needs_background": "light"
          }
        }
      ]
    },
    {
      "cell_type": "code",
      "metadata": {
        "colab": {
          "base_uri": "https://localhost:8080/"
        },
        "id": "oXz51Q5cInxQ",
        "outputId": "a86ea365-459f-4317-f85c-f241d8ecb35d"
      },
      "source": [
        "#Goldfeld-Quandt homoskedasticity test.\n",
        "#This test examines whether the residual variance is the same in 2 subsamples.\n",
        "from statsmodels.stats.api import het_goldfeldquandt\n",
        "# The Null hypothesis is that the variance in the two sub-samples are the same. The alternative hypothesis, can be increasing, \n",
        "#i.e. the variance in the second sample is larger than in the first, or decreasing or two-sided.\n",
        "\n",
        "## Homoscedacity.\n",
        "\n",
        "# H0 : There is homoscedasticity present in the data.\n",
        "# Ha : There is a heteroscedasticity present in the data.\n",
        "het_goldfeldquandt(y_train,xc)"
      ],
      "execution_count": null,
      "outputs": [
        {
          "output_type": "execute_result",
          "data": {
            "text/plain": [
              "(0.9918007597509607, 0.7958188290519543, 'increasing')"
            ]
          },
          "metadata": {
            "tags": []
          },
          "execution_count": 50
        }
      ]
    },
    {
      "cell_type": "markdown",
      "metadata": {
        "id": "yNfnT3maOohz"
      },
      "source": [
        "- pval > 0.05, so there is homoscedasticity present in the data.\n",
        "- Also, the plot suggest that the error terms are randomly distributed, there is no Funnel/cone formation."
      ]
    },
    {
      "cell_type": "code",
      "metadata": {
        "colab": {
          "base_uri": "https://localhost:8080/"
        },
        "id": "SQrPOUSXgNWC",
        "outputId": "ecef5df5-b62b-49d8-e6d0-6de55edc4456"
      },
      "source": [
        "# Check for Linearity assumption\n",
        "#linear rainbow test - atleast 50% of data is linear input and residue \n",
        "from statsmodels.stats.diagnostic import linear_rainbow\n",
        "#h0 : part of the data is linear\n",
        "linear_rainbow(res=model,frac=0.5) #0.5 - atleast 50% #returns fstat and pvalue"
      ],
      "execution_count": null,
      "outputs": [
        {
          "output_type": "execute_result",
          "data": {
            "text/plain": [
              "(0.9834445615360743, 0.9531914397804178)"
            ]
          },
          "metadata": {
            "tags": []
          },
          "execution_count": 51
        }
      ]
    },
    {
      "cell_type": "markdown",
      "metadata": {
        "id": "qTouIG9DgsCa"
      },
      "source": [
        "- pval > 0.05 - fail to reject null hyp, atleast 50% of data is linear "
      ]
    },
    {
      "cell_type": "markdown",
      "metadata": {
        "id": "9m9ZHhx5hn0E"
      },
      "source": [
        "### Base Model Observations\n",
        "- Base Model and Assumptions are done. R2 value is 0.883 and except customer long, order purchase month and week, all the other features are significant.\n",
        "\n",
        "### Scope of Improvement \n",
        "- Feature selection, Regularization models, Other Tree based models and Ensemble techniques."
      ]
    },
    {
      "cell_type": "markdown",
      "metadata": {
        "id": "r0C4V-eazl9p"
      },
      "source": [
        "## Feature Selection - RFE"
      ]
    },
    {
      "cell_type": "code",
      "metadata": {
        "colab": {
          "base_uri": "https://localhost:8080/"
        },
        "id": "fZcuIKt3lskc",
        "outputId": "c8c9531b-d4e7-48fd-fc40-af2deb5d6577"
      },
      "source": [
        "model = LinearRegression()\n",
        "rfe = RFECV(model,scoring = 'neg_mean_squared_error')\n",
        "rfe_mod = rfe.fit(x_train,y_train)\n",
        "rfe_rank = pd.DataFrame()\n",
        "rfe_rank['Features'] = x_train.columns\n",
        "rfe_rank['rank'] = rfe_mod.ranking_\n",
        "feat_rfe=rfe_rank[rfe_rank['rank']==1]['Features']\n",
        "feat_rfe=list(feat_rfe)\n",
        "print(feat_rfe)\n",
        "print(len(feat_rfe))"
      ],
      "execution_count": null,
      "outputs": [
        {
          "output_type": "stream",
          "text": [
            "['product_category_name_english', 'price', 'freight_value', 'seller_zip_code_prefix', 'customer_lng', 'customer_lat', 'customer_zip_code_prefix', 'distance', 'order_purchase_day', 'order_purchase_month', 'tot_price', 'order_purchase_week', 'order_purchase_hour', 'Preparation_time', 'Est_Shipping_time', 'speed']\n",
            "16\n"
          ],
          "name": "stdout"
        }
      ]
    },
    {
      "cell_type": "markdown",
      "metadata": {
        "id": "00wxc_vXluBY"
      },
      "source": [
        "- Using RFECV, model chooses all the 16 features as significant to create a Linear Regression models."
      ]
    },
    {
      "cell_type": "markdown",
      "metadata": {
        "id": "aLn6PzjkzrEn"
      },
      "source": [
        "## Linear Regression model"
      ]
    },
    {
      "cell_type": "code",
      "metadata": {
        "colab": {
          "base_uri": "https://localhost:8080/"
        },
        "id": "NYrwXKh0rxV_",
        "outputId": "57284cc8-62b3-408b-850e-566063f25b48"
      },
      "source": [
        "lr=LinearRegression()\n",
        "lr.fit(x_train,y_train)\n",
        "ypred_train=lr.predict(x_train)\n",
        "ypred_test=lr.predict(x_test)\n",
        "\n",
        "r2_train=r2_score(y_train,ypred_train)\n",
        "r2_test=r2_score(y_test,ypred_test)\n",
        "\n",
        "rmse_train= np.sqrt(mean_squared_error(y_train,ypred_train))\n",
        "rmse_test= np.sqrt(mean_squared_error(y_test,ypred_test))\n",
        "\n",
        "res_rfe=[r2_train,r2_test,rmse_train,rmse_test]\n",
        "res_rfe"
      ],
      "execution_count": null,
      "outputs": [
        {
          "output_type": "execute_result",
          "data": {
            "text/plain": [
              "[0.8827518842756561,\n",
              " 0.8816731502832617,\n",
              " 0.24538894603634576,\n",
              " 0.24666694106206616]"
            ]
          },
          "metadata": {
            "tags": []
          },
          "execution_count": 53
        }
      ]
    },
    {
      "cell_type": "code",
      "metadata": {
        "colab": {
          "base_uri": "https://localhost:8080/"
        },
        "id": "K_Jii6nTz4SJ",
        "outputId": "512e28c3-ecaf-40ab-ee7b-8bbd29272ca6"
      },
      "source": [
        "# Inverse transformation of LOG - using exponential and calculate RMSE\n",
        "print(\"Predictions : \", np.exp(ypred_test))\n",
        "print(\"Actual : \", np.exp(y_test))"
      ],
      "execution_count": null,
      "outputs": [
        {
          "output_type": "stream",
          "text": [
            "Predictions :  [174.51220013 124.2660363  193.85071528 ... 339.62436647 177.12154365\n",
            " 860.48897798]\n",
            "Actual :  21450      163.0\n",
            "80071      138.0\n",
            "107702     200.0\n",
            "6618       248.0\n",
            "31417      166.0\n",
            "           ...  \n",
            "98750      473.0\n",
            "105898     247.0\n",
            "67509      341.0\n",
            "89140      184.0\n",
            "29781     1093.0\n",
            "Name: Lead, Length: 20179, dtype: float64\n"
          ],
          "name": "stdout"
        }
      ]
    },
    {
      "cell_type": "code",
      "metadata": {
        "colab": {
          "base_uri": "https://localhost:8080/"
        },
        "id": "oFIvXq4GkH5S",
        "outputId": "73db2868-bb47-49ba-90e2-74abbc30f76e"
      },
      "source": [
        "## RMSE for Base Model\n",
        "lin_mse = mean_squared_error(np.exp(y_test), np.exp(ypred_test))\n",
        "lin_rmse = np.sqrt(lin_mse)\n",
        "print('RMSE for LinearRegression Model',lin_rmse)"
      ],
      "execution_count": null,
      "outputs": [
        {
          "output_type": "stream",
          "text": [
            "RMSE for LinearRegression Model 130.26403871709954\n"
          ],
          "name": "stdout"
        }
      ]
    },
    {
      "cell_type": "markdown",
      "metadata": {
        "id": "Als3ltDFhX1s"
      },
      "source": [
        "## Cross Validation on different models"
      ]
    },
    {
      "cell_type": "markdown",
      "metadata": {
        "id": "Rg3wRKdKRKFj"
      },
      "source": [
        "## Linear Regression"
      ]
    },
    {
      "cell_type": "code",
      "metadata": {
        "colab": {
          "base_uri": "https://localhost:8080/"
        },
        "id": "SyoUecgY1Opw",
        "outputId": "c97c383d-3775-4727-f340-dfe5c797ebec"
      },
      "source": [
        "## Cross validation - 5 folds\n",
        "\n",
        "lr=LinearRegression()\n",
        "score=cross_val_score(lr,x_train,y_train,cv=5,scoring='neg_mean_squared_error')\n",
        "score=np.sqrt(abs(score))\n",
        "avg_score=np.mean(score)\n",
        "ve=np.std(score)\n",
        "cve=np.std(score)/np.mean(score)\n",
        "print(avg_score,ve,cve) # 0.8% variance error in terms of RMSE ( deviations are about 0.8%)"
      ],
      "execution_count": null,
      "outputs": [
        {
          "output_type": "stream",
          "text": [
            "0.24545809201501592 0.0020058456587056963 0.008171845720136163\n"
          ],
          "name": "stdout"
        }
      ]
    },
    {
      "cell_type": "markdown",
      "metadata": {
        "id": "u7sK6YD4QTSw"
      },
      "source": [
        "## Ridge Regularization"
      ]
    },
    {
      "cell_type": "code",
      "metadata": {
        "colab": {
          "base_uri": "https://localhost:8080/"
        },
        "id": "chTpyAg4QV8T",
        "outputId": "7f18b58b-1250-466e-f436-ed90a4702ed5"
      },
      "source": [
        "## Cross validation - 5 folds\n",
        "\n",
        "ridge=Ridge()\n",
        "score=cross_val_score(ridge,x_train,y_train,cv=5,scoring='neg_mean_squared_error')\n",
        "score=np.sqrt(abs(score))\n",
        "avg_score=np.mean(score)\n",
        "ve=np.std(score)\n",
        "cve=np.std(score)/np.mean(score)\n",
        "print(avg_score,ve,cve) # 0.8% variance error in terms of RMSE ( deviations are about 0.8%)"
      ],
      "execution_count": null,
      "outputs": [
        {
          "output_type": "stream",
          "text": [
            "0.24545798365740107 0.002004949468011362 0.008168198231473205\n"
          ],
          "name": "stdout"
        }
      ]
    },
    {
      "cell_type": "markdown",
      "metadata": {
        "id": "V3biglEiQeuM"
      },
      "source": [
        "## Lasso Regularization"
      ]
    },
    {
      "cell_type": "code",
      "metadata": {
        "colab": {
          "base_uri": "https://localhost:8080/"
        },
        "id": "sBcHh1PpQhge",
        "outputId": "f2cd1de8-3fcd-441f-f33d-58bc13836936"
      },
      "source": [
        "## Cross validation - 5 folds\n",
        "\n",
        "lasso=Lasso()\n",
        "score=cross_val_score(lasso,x_train,y_train,cv=5,scoring='neg_mean_squared_error')\n",
        "score=np.sqrt(abs(score))\n",
        "avg_score=np.mean(score)\n",
        "ve=np.std(score)\n",
        "cve=np.std(score)/np.mean(score)\n",
        "print(avg_score,ve,cve) # 0.1% variance error in terms of RMSE ( deviations are about 0.1%, has problem of overfitting)"
      ],
      "execution_count": null,
      "outputs": [
        {
          "output_type": "stream",
          "text": [
            "0.7166460994498552 0.001132083362976881 0.0015796965389833879\n"
          ],
          "name": "stdout"
        }
      ]
    },
    {
      "cell_type": "markdown",
      "metadata": {
        "id": "y34gOiViNFAc"
      },
      "source": [
        "## Decision Tree Regressor"
      ]
    },
    {
      "cell_type": "code",
      "metadata": {
        "colab": {
          "base_uri": "https://localhost:8080/"
        },
        "id": "4sUZzWfdNDu5",
        "outputId": "04ce5492-ce70-48b9-b24f-b23506ab75d4"
      },
      "source": [
        "## Cross validation - 5 folds\n",
        "from sklearn.tree import DecisionTreeRegressor\n",
        "\n",
        "tree_reg = DecisionTreeRegressor()\n",
        "score=cross_val_score(tree_reg,x_train,y_train,cv=5,scoring='neg_mean_squared_error')\n",
        "score=np.sqrt(abs(score))\n",
        "avg_score=np.mean(score)\n",
        "ve=np.std(score)\n",
        "cve=np.std(score)/np.mean(score)\n",
        "print(avg_score,ve,cve) # 3% variance error in terms of RMSE (deviations are about 3%, has problem of overfitting)"
      ],
      "execution_count": null,
      "outputs": [
        {
          "output_type": "stream",
          "text": [
            "0.1113756207270948 0.004407395836506444 0.03957235710771881\n"
          ],
          "name": "stdout"
        }
      ]
    },
    {
      "cell_type": "markdown",
      "metadata": {
        "id": "uJnf2gG_NXM2"
      },
      "source": [
        "## Random Forest Regressor"
      ]
    },
    {
      "cell_type": "code",
      "metadata": {
        "colab": {
          "base_uri": "https://localhost:8080/"
        },
        "id": "J2YfgEz_NeiC",
        "outputId": "ac68a6ca-10b9-4bbe-896e-06b99963bd95"
      },
      "source": [
        "## Cross validation - 5 folds\n",
        "from sklearn.ensemble import RandomForestRegressor\n",
        "\n",
        "RF_reg = RandomForestRegressor()\n",
        "score=cross_val_score(RF_reg,x_train,y_train,cv=5,scoring='neg_mean_squared_error')\n",
        "score=np.sqrt(abs(score))\n",
        "avg_score=np.mean(score)\n",
        "ve=np.std(score)\n",
        "cve=np.std(score)/np.mean(score)\n",
        "print(avg_score,ve,cve) # 3% variance error in terms of RMSE ( deviations are about 3%, has problem of overfitting)"
      ],
      "execution_count": null,
      "outputs": [
        {
          "output_type": "stream",
          "text": [
            "0.07841918525698278 0.0024420063975874548 0.03114042041606149\n"
          ],
          "name": "stdout"
        }
      ]
    },
    {
      "cell_type": "markdown",
      "metadata": {
        "id": "B8bZ1dqGQwE4"
      },
      "source": [
        "## Gradient descent"
      ]
    },
    {
      "cell_type": "code",
      "metadata": {
        "colab": {
          "base_uri": "https://localhost:8080/"
        },
        "id": "eyfdh_9gQvES",
        "outputId": "b4b4a9b7-ffac-4296-c32e-8c2c3d920624"
      },
      "source": [
        "## Cross validation - 5 folds\n",
        "from sklearn.linear_model import SGDRegressor\n",
        "\n",
        "\n",
        "sgd = SGDRegressor()\n",
        "score=cross_val_score(sgd,x_train,y_train,cv=5,scoring='neg_mean_squared_error')\n",
        "score=np.sqrt(abs(score))\n",
        "avg_score=np.mean(score)\n",
        "ve=np.std(score)\n",
        "cve=np.std(score)/np.mean(score)\n",
        "print(avg_score,ve,cve) # less ve"
      ],
      "execution_count": null,
      "outputs": [
        {
          "output_type": "stream",
          "text": [
            "0.24583612482929454 0.0020184383735484834 0.008210503541536303\n"
          ],
          "name": "stdout"
        }
      ]
    },
    {
      "cell_type": "markdown",
      "metadata": {
        "id": "_EnmoGv0hfWz"
      },
      "source": [
        "- From the above models, Random Forest model results in less RMSE and hence building an Random Forest Regressor model and tuning it for better results.\n",
        "- Yet, the model is overfitted with variance error. So, Model tuning and pruning has to be done."
      ]
    },
    {
      "cell_type": "code",
      "metadata": {
        "id": "yvamNlpJozvt"
      },
      "source": [
        "# Grid Search CV\n",
        "from sklearn.model_selection import GridSearchCV\n",
        "from sklearn.ensemble import RandomForestRegressor\n",
        "\n",
        "params={'n_estimators':[50,80,100,120,140,190,200,210]\n",
        "        'max_depth':[10,15,20,25,30,40]}"
      ],
      "execution_count": null,
      "outputs": []
    },
    {
      "cell_type": "code",
      "metadata": {
        "id": "4CwqgdE_ozvu"
      },
      "source": [
        "rf_mod1=RandomForestRegressor()\n",
        "hyp_mod=GridSearchCV(rf_mod1,param_grid=params,cv=5,scoring='neg_mean_squared_error',n_jobs=-1)"
      ],
      "execution_count": null,
      "outputs": []
    },
    {
      "cell_type": "code",
      "metadata": {
        "id": "lIq-nibQozvu"
      },
      "source": [
        "tun_mod=hyp_mod.fit(x_train,y_train) "
      ],
      "execution_count": null,
      "outputs": []
    },
    {
      "cell_type": "code",
      "metadata": {
        "id": "jxEbtfyzozvu",
        "colab": {
          "base_uri": "https://localhost:8080/"
        },
        "outputId": "01b8ebe3-d7fd-41b6-badf-6f4e6ac2c37c"
      },
      "source": [
        "tun_mod.best_params_"
      ],
      "execution_count": null,
      "outputs": [
        {
          "output_type": "execute_result",
          "data": {
            "text/plain": [
              "{'max_depth': 25, 'n_estimators': 200}"
            ]
          },
          "metadata": {
            "tags": []
          },
          "execution_count": 79
        }
      ]
    },
    {
      "cell_type": "code",
      "metadata": {
        "id": "YzbCJtLMozvu",
        "colab": {
          "base_uri": "https://localhost:8080/"
        },
        "outputId": "74be9627-3a2f-4e2c-ed31-514f831c54a9"
      },
      "source": [
        "tun_mod.best_score_"
      ],
      "execution_count": null,
      "outputs": [
        {
          "output_type": "execute_result",
          "data": {
            "text/plain": [
              "-0.006062602038050433"
            ]
          },
          "metadata": {
            "tags": []
          },
          "execution_count": 80
        }
      ]
    },
    {
      "cell_type": "code",
      "metadata": {
        "id": "SKkmJNuvozvv"
      },
      "source": [
        "final_mod=RandomForestRegressor(max_depth=25, max_features='auto',\n",
        "                      n_estimators=200, n_jobs=-1, oob_score=True,random_state=0)"
      ],
      "execution_count": null,
      "outputs": []
    },
    {
      "cell_type": "code",
      "metadata": {
        "id": "gl-upSkOozvv",
        "colab": {
          "base_uri": "https://localhost:8080/"
        },
        "outputId": "40b43cdc-1d0b-463b-95c6-96cf8d71a0d5"
      },
      "source": [
        "final_mod.fit(x_train,y_train)"
      ],
      "execution_count": null,
      "outputs": [
        {
          "output_type": "execute_result",
          "data": {
            "text/plain": [
              "RandomForestRegressor(bootstrap=True, ccp_alpha=0.0, criterion='mse',\n",
              "                      max_depth=25, max_features='auto', max_leaf_nodes=None,\n",
              "                      max_samples=None, min_impurity_decrease=0.0,\n",
              "                      min_impurity_split=None, min_samples_leaf=1,\n",
              "                      min_samples_split=2, min_weight_fraction_leaf=0.0,\n",
              "                      n_estimators=200, n_jobs=-1, oob_score=True,\n",
              "                      random_state=0, verbose=0, warm_start=False)"
            ]
          },
          "metadata": {
            "tags": []
          },
          "execution_count": 69
        }
      ]
    },
    {
      "cell_type": "code",
      "metadata": {
        "colab": {
          "base_uri": "https://localhost:8080/"
        },
        "id": "HrJ1_dpqOciJ",
        "outputId": "080147e4-3f74-4cf7-de2b-cda225424fbd"
      },
      "source": [
        "final_mod.oob_score_"
      ],
      "execution_count": null,
      "outputs": [
        {
          "output_type": "execute_result",
          "data": {
            "text/plain": [
              "0.9889236631078376"
            ]
          },
          "metadata": {
            "tags": []
          },
          "execution_count": 70
        }
      ]
    },
    {
      "cell_type": "code",
      "metadata": {
        "id": "5Yb7JxIdozvv",
        "colab": {
          "base_uri": "https://localhost:8080/"
        },
        "outputId": "1e0ba2c6-1171-4954-c0c4-73edd9da0d51"
      },
      "source": [
        "ypred_train=final_mod.predict(x_train)\n",
        "ypred_test=final_mod.predict(x_test)\n",
        "\n",
        "r2_train=r2_score(y_train,ypred_train)\n",
        "r2_test=r2_score(y_test,ypred_test)\n",
        "\n",
        "rmse_train= np.sqrt(mean_squared_error(y_train,ypred_train))\n",
        "rmse_test= np.sqrt(mean_squared_error(y_test,ypred_test))\n",
        "\n",
        "print(r2_train,r2_test,rmse_train,rmse_test)"
      ],
      "execution_count": null,
      "outputs": [
        {
          "output_type": "stream",
          "text": [
            "0.9983980513599637 0.9903309527587444 0.028683117589672267 0.07051169231605181\n"
          ],
          "name": "stdout"
        }
      ]
    },
    {
      "cell_type": "code",
      "metadata": {
        "id": "cGvtIquhozvv",
        "colab": {
          "base_uri": "https://localhost:8080/"
        },
        "outputId": "cd135b45-27bd-41d4-a296-b35871b995dd"
      },
      "source": [
        "# Inverse transformation of LOG - using exponential and calculate RMSE\n",
        "print(\"Predictions : \", np.exp(ypred_test))\n",
        "print(\"Actual : \", np.exp(y_test))"
      ],
      "execution_count": null,
      "outputs": [
        {
          "output_type": "stream",
          "text": [
            "Predictions :  [ 163.          137.90404212  198.25066586 ...  340.82817839  184.72574638\n",
            " 1093.        ]\n",
            "Actual :  21450      163.0\n",
            "80071      138.0\n",
            "107702     200.0\n",
            "6618       248.0\n",
            "31417      166.0\n",
            "           ...  \n",
            "98750      473.0\n",
            "105898     247.0\n",
            "67509      341.0\n",
            "89140      184.0\n",
            "29781     1093.0\n",
            "Name: Lead, Length: 20179, dtype: float64\n"
          ],
          "name": "stdout"
        }
      ]
    },
    {
      "cell_type": "code",
      "metadata": {
        "colab": {
          "base_uri": "https://localhost:8080/"
        },
        "id": "2kD9ydoZRUjw",
        "outputId": "7720f9a0-3889-4d25-89d0-f9123a9c4bf5"
      },
      "source": [
        "## RMSE for Final Model\n",
        "lin_mse = mean_squared_error(np.exp(y_test), np.exp(ypred_test))\n",
        "lin_rmse = np.sqrt(lin_mse)\n",
        "print('RMSE for Random Forest - Tuned Model',lin_rmse)"
      ],
      "execution_count": null,
      "outputs": [
        {
          "output_type": "stream",
          "text": [
            "RMSE for Random Forest - Tuned Model 31.769040078055248\n"
          ],
          "name": "stdout"
        }
      ]
    },
    {
      "cell_type": "code",
      "metadata": {
        "colab": {
          "base_uri": "https://localhost:8080/",
          "height": 545
        },
        "id": "yg3ezGyBsAlx",
        "outputId": "77a9c7c9-b807-47a3-b09c-8568492311df"
      },
      "source": [
        "feat=pd.DataFrame({'feature':x_train.columns,\n",
        "                   'feat_imp':final_mod.feature_importances_})\n",
        "feat.sort_values('feat_imp',ascending=False)\n"
      ],
      "execution_count": null,
      "outputs": [
        {
          "output_type": "execute_result",
          "data": {
            "text/html": [
              "<div>\n",
              "<style scoped>\n",
              "    .dataframe tbody tr th:only-of-type {\n",
              "        vertical-align: middle;\n",
              "    }\n",
              "\n",
              "    .dataframe tbody tr th {\n",
              "        vertical-align: top;\n",
              "    }\n",
              "\n",
              "    .dataframe thead th {\n",
              "        text-align: right;\n",
              "    }\n",
              "</style>\n",
              "<table border=\"1\" class=\"dataframe\">\n",
              "  <thead>\n",
              "    <tr style=\"text-align: right;\">\n",
              "      <th></th>\n",
              "      <th>feature</th>\n",
              "      <th>feat_imp</th>\n",
              "    </tr>\n",
              "  </thead>\n",
              "  <tbody>\n",
              "    <tr>\n",
              "      <th>7</th>\n",
              "      <td>distance</td>\n",
              "      <td>0.545699</td>\n",
              "    </tr>\n",
              "    <tr>\n",
              "      <th>15</th>\n",
              "      <td>speed</td>\n",
              "      <td>0.372554</td>\n",
              "    </tr>\n",
              "    <tr>\n",
              "      <th>13</th>\n",
              "      <td>Preparation_time</td>\n",
              "      <td>0.069167</td>\n",
              "    </tr>\n",
              "    <tr>\n",
              "      <th>6</th>\n",
              "      <td>customer_zip_code_prefix</td>\n",
              "      <td>0.002209</td>\n",
              "    </tr>\n",
              "    <tr>\n",
              "      <th>3</th>\n",
              "      <td>seller_zip_code_prefix</td>\n",
              "      <td>0.001188</td>\n",
              "    </tr>\n",
              "    <tr>\n",
              "      <th>4</th>\n",
              "      <td>customer_lng</td>\n",
              "      <td>0.001172</td>\n",
              "    </tr>\n",
              "    <tr>\n",
              "      <th>2</th>\n",
              "      <td>freight_value</td>\n",
              "      <td>0.001067</td>\n",
              "    </tr>\n",
              "    <tr>\n",
              "      <th>8</th>\n",
              "      <td>order_purchase_day</td>\n",
              "      <td>0.000996</td>\n",
              "    </tr>\n",
              "    <tr>\n",
              "      <th>0</th>\n",
              "      <td>product_category_name_english</td>\n",
              "      <td>0.000992</td>\n",
              "    </tr>\n",
              "    <tr>\n",
              "      <th>14</th>\n",
              "      <td>Est_Shipping_time</td>\n",
              "      <td>0.000968</td>\n",
              "    </tr>\n",
              "    <tr>\n",
              "      <th>12</th>\n",
              "      <td>order_purchase_hour</td>\n",
              "      <td>0.000952</td>\n",
              "    </tr>\n",
              "    <tr>\n",
              "      <th>11</th>\n",
              "      <td>order_purchase_week</td>\n",
              "      <td>0.000780</td>\n",
              "    </tr>\n",
              "    <tr>\n",
              "      <th>10</th>\n",
              "      <td>tot_price</td>\n",
              "      <td>0.000709</td>\n",
              "    </tr>\n",
              "    <tr>\n",
              "      <th>1</th>\n",
              "      <td>price</td>\n",
              "      <td>0.000643</td>\n",
              "    </tr>\n",
              "    <tr>\n",
              "      <th>5</th>\n",
              "      <td>customer_lat</td>\n",
              "      <td>0.000593</td>\n",
              "    </tr>\n",
              "    <tr>\n",
              "      <th>9</th>\n",
              "      <td>order_purchase_month</td>\n",
              "      <td>0.000311</td>\n",
              "    </tr>\n",
              "  </tbody>\n",
              "</table>\n",
              "</div>"
            ],
            "text/plain": [
              "                          feature  feat_imp\n",
              "7                        distance  0.545699\n",
              "15                          speed  0.372554\n",
              "13               Preparation_time  0.069167\n",
              "6        customer_zip_code_prefix  0.002209\n",
              "3          seller_zip_code_prefix  0.001188\n",
              "4                    customer_lng  0.001172\n",
              "2                   freight_value  0.001067\n",
              "8              order_purchase_day  0.000996\n",
              "0   product_category_name_english  0.000992\n",
              "14              Est_Shipping_time  0.000968\n",
              "12            order_purchase_hour  0.000952\n",
              "11            order_purchase_week  0.000780\n",
              "10                      tot_price  0.000709\n",
              "1                           price  0.000643\n",
              "5                    customer_lat  0.000593\n",
              "9            order_purchase_month  0.000311"
            ]
          },
          "metadata": {
            "tags": []
          },
          "execution_count": 74
        }
      ]
    },
    {
      "cell_type": "markdown",
      "metadata": {
        "id": "m8Hmd4cCQkzt"
      },
      "source": [
        "## **Conclusion**\n",
        "- Final model is Random Forest Regressor, RMSE is 31 and the impotant feature which determins the Lead time is Distance, Speed, Preparation time, Customer and seller Location, Freight value.\n",
        "- So, when a new order comes in, using the Random Forest model, Lead Time can be predicted. This way, Delivery can be speed up according to the predictions. \n",
        "- The major benefits of reducing lead times are reduced carrying costs, streamlined operations, and improved productivity. This in-turn helps to improve customer satisfaction and retention."
      ]
    }
  ]
}